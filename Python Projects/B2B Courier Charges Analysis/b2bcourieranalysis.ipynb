{
 "cells": [
  {
   "cell_type": "code",
   "execution_count": 38,
   "id": "c86061c8",
   "metadata": {},
   "outputs": [],
   "source": [
    "import numpy as np\n",
    "import pandas as pd"
   ]
  },
  {
   "cell_type": "code",
   "execution_count": 39,
   "id": "3f9028d4",
   "metadata": {},
   "outputs": [],
   "source": [
    "Order_report = pd.read_csv(\"Order Report.csv\")\n",
    "Courier_rates = pd.read_csv(\"Courier Company - Rates.csv\")\n",
    "courier_invoice = pd.read_csv(\"Invoice.csv\")\n",
    "sku_master = pd.read_csv(\"SKU Master.csv\")\n",
    "pincode_mapping = pd.read_csv(\"pincodes.csv\")"
   ]
  },
  {
   "cell_type": "code",
   "execution_count": 40,
   "id": "fd36b3fb",
   "metadata": {},
   "outputs": [
    {
     "name": "stdout",
     "output_type": "stream",
     "text": [
      "<class 'pandas.core.frame.DataFrame'>\n",
      "RangeIndex: 400 entries, 0 to 399\n",
      "Data columns (total 5 columns):\n",
      " #   Column         Non-Null Count  Dtype  \n",
      "---  ------         --------------  -----  \n",
      " 0   ExternOrderNo  400 non-null    int64  \n",
      " 1   SKU            400 non-null    object \n",
      " 2   Order Qty      400 non-null    float64\n",
      " 3   Unnamed: 3     0 non-null      float64\n",
      " 4   Unnamed: 4     0 non-null      float64\n",
      "dtypes: float64(3), int64(1), object(1)\n",
      "memory usage: 15.8+ KB\n",
      "<class 'pandas.core.frame.DataFrame'>\n",
      "RangeIndex: 1 entries, 0 to 0\n",
      "Data columns (total 20 columns):\n",
      " #   Column            Non-Null Count  Dtype  \n",
      "---  ------            --------------  -----  \n",
      " 0   fwd_a_fixed       1 non-null      float64\n",
      " 1   fwd_a_additional  1 non-null      float64\n",
      " 2   fwd_b_fixed       1 non-null      int64  \n",
      " 3   fwd_b_additional  1 non-null      float64\n",
      " 4   fwd_c_fixed       1 non-null      float64\n",
      " 5   fwd_c_additional  1 non-null      float64\n",
      " 6   fwd_d_fixed       1 non-null      float64\n",
      " 7   fwd_d_additional  1 non-null      float64\n",
      " 8   fwd_e_fixed       1 non-null      float64\n",
      " 9   fwd_e_additional  1 non-null      float64\n",
      " 10  rto_a_fixed       1 non-null      float64\n",
      " 11  rto_a_additional  1 non-null      float64\n",
      " 12  rto_b_fixed       1 non-null      float64\n",
      " 13  rto_b_additional  1 non-null      float64\n",
      " 14  rto_c_fixed       1 non-null      float64\n",
      " 15  rto_c_additional  1 non-null      float64\n",
      " 16  rto_d_fixed       1 non-null      float64\n",
      " 17  rto_d_additional  1 non-null      float64\n",
      " 18  rto_e_fixed       1 non-null      float64\n",
      " 19  rto_e_additional  1 non-null      float64\n",
      "dtypes: float64(19), int64(1)\n",
      "memory usage: 292.0 bytes\n",
      "<class 'pandas.core.frame.DataFrame'>\n",
      "RangeIndex: 124 entries, 0 to 123\n",
      "Data columns (total 8 columns):\n",
      " #   Column                Non-Null Count  Dtype  \n",
      "---  ------                --------------  -----  \n",
      " 0   AWB Code              124 non-null    int64  \n",
      " 1   Order ID              124 non-null    int64  \n",
      " 2   Charged Weight        124 non-null    float64\n",
      " 3   Warehouse Pincode     124 non-null    int64  \n",
      " 4   Customer Pincode      124 non-null    int64  \n",
      " 5   Zone                  124 non-null    object \n",
      " 6   Type of Shipment      124 non-null    object \n",
      " 7   Billing Amount (Rs.)  124 non-null    float64\n",
      "dtypes: float64(2), int64(4), object(2)\n",
      "memory usage: 7.9+ KB\n",
      "<class 'pandas.core.frame.DataFrame'>\n",
      "RangeIndex: 66 entries, 0 to 65\n",
      "Data columns (total 5 columns):\n",
      " #   Column      Non-Null Count  Dtype  \n",
      "---  ------      --------------  -----  \n",
      " 0   SKU         66 non-null     object \n",
      " 1   Weight (g)  66 non-null     int64  \n",
      " 2   Unnamed: 2  0 non-null      float64\n",
      " 3   Unnamed: 3  0 non-null      float64\n",
      " 4   Unnamed: 4  0 non-null      float64\n",
      "dtypes: float64(3), int64(1), object(1)\n",
      "memory usage: 2.7+ KB\n",
      "<class 'pandas.core.frame.DataFrame'>\n",
      "RangeIndex: 124 entries, 0 to 123\n",
      "Data columns (total 5 columns):\n",
      " #   Column             Non-Null Count  Dtype  \n",
      "---  ------             --------------  -----  \n",
      " 0   Warehouse Pincode  124 non-null    int64  \n",
      " 1   Customer Pincode   124 non-null    int64  \n",
      " 2   Zone               124 non-null    object \n",
      " 3   Unnamed: 3         0 non-null      float64\n",
      " 4   Unnamed: 4         0 non-null      float64\n",
      "dtypes: float64(2), int64(2), object(1)\n",
      "memory usage: 5.0+ KB\n"
     ]
    }
   ],
   "source": [
    "#Checking for missing values\n",
    "Order_report.info()\n",
    "Courier_rates.info()\n",
    "courier_invoice.info()\n",
    "sku_master.info()\n",
    "pincode_mapping.info()"
   ]
  },
  {
   "cell_type": "code",
   "execution_count": 41,
   "id": "7c271810",
   "metadata": {},
   "outputs": [
    {
     "data": {
      "text/html": [
       "<div>\n",
       "<style scoped>\n",
       "    .dataframe tbody tr th:only-of-type {\n",
       "        vertical-align: middle;\n",
       "    }\n",
       "\n",
       "    .dataframe tbody tr th {\n",
       "        vertical-align: top;\n",
       "    }\n",
       "\n",
       "    .dataframe thead th {\n",
       "        text-align: right;\n",
       "    }\n",
       "</style>\n",
       "<table border=\"1\" class=\"dataframe\">\n",
       "  <thead>\n",
       "    <tr style=\"text-align: right;\">\n",
       "      <th></th>\n",
       "      <th>ExternOrderNo</th>\n",
       "      <th>SKU</th>\n",
       "      <th>Order Qty</th>\n",
       "    </tr>\n",
       "  </thead>\n",
       "  <tbody>\n",
       "    <tr>\n",
       "      <th>0</th>\n",
       "      <td>2001827036</td>\n",
       "      <td>8904223818706</td>\n",
       "      <td>1.0</td>\n",
       "    </tr>\n",
       "    <tr>\n",
       "      <th>1</th>\n",
       "      <td>2001827036</td>\n",
       "      <td>8904223819093</td>\n",
       "      <td>1.0</td>\n",
       "    </tr>\n",
       "    <tr>\n",
       "      <th>2</th>\n",
       "      <td>2001827036</td>\n",
       "      <td>8904223819109</td>\n",
       "      <td>1.0</td>\n",
       "    </tr>\n",
       "    <tr>\n",
       "      <th>3</th>\n",
       "      <td>2001827036</td>\n",
       "      <td>8904223818430</td>\n",
       "      <td>1.0</td>\n",
       "    </tr>\n",
       "    <tr>\n",
       "      <th>4</th>\n",
       "      <td>2001827036</td>\n",
       "      <td>8904223819277</td>\n",
       "      <td>1.0</td>\n",
       "    </tr>\n",
       "  </tbody>\n",
       "</table>\n",
       "</div>"
      ],
      "text/plain": [
       "   ExternOrderNo            SKU  Order Qty\n",
       "0     2001827036  8904223818706        1.0\n",
       "1     2001827036  8904223819093        1.0\n",
       "2     2001827036  8904223819109        1.0\n",
       "3     2001827036  8904223818430        1.0\n",
       "4     2001827036  8904223819277        1.0"
      ]
     },
     "execution_count": 41,
     "metadata": {},
     "output_type": "execute_result"
    }
   ],
   "source": [
    "#Dropped column with missing values\n",
    "Order_report.drop(columns=[\"Unnamed: 3\", \"Unnamed: 4\"], inplace=True)\n",
    "Order_report.head()"
   ]
  },
  {
   "cell_type": "code",
   "execution_count": 42,
   "id": "ba804afb",
   "metadata": {},
   "outputs": [
    {
     "data": {
      "text/html": [
       "<div>\n",
       "<style scoped>\n",
       "    .dataframe tbody tr th:only-of-type {\n",
       "        vertical-align: middle;\n",
       "    }\n",
       "\n",
       "    .dataframe tbody tr th {\n",
       "        vertical-align: top;\n",
       "    }\n",
       "\n",
       "    .dataframe thead th {\n",
       "        text-align: right;\n",
       "    }\n",
       "</style>\n",
       "<table border=\"1\" class=\"dataframe\">\n",
       "  <thead>\n",
       "    <tr style=\"text-align: right;\">\n",
       "      <th></th>\n",
       "      <th>AWB Code</th>\n",
       "      <th>Order ID</th>\n",
       "      <th>Charged Weight</th>\n",
       "      <th>Warehouse Pincode</th>\n",
       "      <th>Customer Pincode</th>\n",
       "      <th>Zone</th>\n",
       "      <th>Type of Shipment</th>\n",
       "      <th>Billing Amount (Rs.)</th>\n",
       "    </tr>\n",
       "  </thead>\n",
       "  <tbody>\n",
       "    <tr>\n",
       "      <th>0</th>\n",
       "      <td>1091117222124</td>\n",
       "      <td>2001806232</td>\n",
       "      <td>1.30</td>\n",
       "      <td>121003</td>\n",
       "      <td>507101</td>\n",
       "      <td>d</td>\n",
       "      <td>Forward charges</td>\n",
       "      <td>135.0</td>\n",
       "    </tr>\n",
       "    <tr>\n",
       "      <th>1</th>\n",
       "      <td>1091117222194</td>\n",
       "      <td>2001806273</td>\n",
       "      <td>1.00</td>\n",
       "      <td>121003</td>\n",
       "      <td>486886</td>\n",
       "      <td>d</td>\n",
       "      <td>Forward charges</td>\n",
       "      <td>90.2</td>\n",
       "    </tr>\n",
       "    <tr>\n",
       "      <th>2</th>\n",
       "      <td>1091117222931</td>\n",
       "      <td>2001806408</td>\n",
       "      <td>2.50</td>\n",
       "      <td>121003</td>\n",
       "      <td>532484</td>\n",
       "      <td>d</td>\n",
       "      <td>Forward charges</td>\n",
       "      <td>224.6</td>\n",
       "    </tr>\n",
       "    <tr>\n",
       "      <th>3</th>\n",
       "      <td>1091117223244</td>\n",
       "      <td>2001806458</td>\n",
       "      <td>1.00</td>\n",
       "      <td>121003</td>\n",
       "      <td>143001</td>\n",
       "      <td>b</td>\n",
       "      <td>Forward charges</td>\n",
       "      <td>61.3</td>\n",
       "    </tr>\n",
       "    <tr>\n",
       "      <th>4</th>\n",
       "      <td>1091117229345</td>\n",
       "      <td>2001807012</td>\n",
       "      <td>0.15</td>\n",
       "      <td>121003</td>\n",
       "      <td>515591</td>\n",
       "      <td>d</td>\n",
       "      <td>Forward charges</td>\n",
       "      <td>45.4</td>\n",
       "    </tr>\n",
       "  </tbody>\n",
       "</table>\n",
       "</div>"
      ],
      "text/plain": [
       "        AWB Code    Order ID  Charged Weight  Warehouse Pincode  \\\n",
       "0  1091117222124  2001806232            1.30             121003   \n",
       "1  1091117222194  2001806273            1.00             121003   \n",
       "2  1091117222931  2001806408            2.50             121003   \n",
       "3  1091117223244  2001806458            1.00             121003   \n",
       "4  1091117229345  2001807012            0.15             121003   \n",
       "\n",
       "   Customer Pincode Zone Type of Shipment  Billing Amount (Rs.)  \n",
       "0            507101    d  Forward charges                 135.0  \n",
       "1            486886    d  Forward charges                  90.2  \n",
       "2            532484    d  Forward charges                 224.6  \n",
       "3            143001    b  Forward charges                  61.3  \n",
       "4            515591    d  Forward charges                  45.4  "
      ]
     },
     "execution_count": 42,
     "metadata": {},
     "output_type": "execute_result"
    }
   ],
   "source": [
    "#No missing values in this DF\n",
    "Courier_rates.head()\n",
    "courier_invoice.head()"
   ]
  },
  {
   "cell_type": "code",
   "execution_count": 43,
   "id": "7c66995e",
   "metadata": {},
   "outputs": [
    {
     "data": {
      "text/html": [
       "<div>\n",
       "<style scoped>\n",
       "    .dataframe tbody tr th:only-of-type {\n",
       "        vertical-align: middle;\n",
       "    }\n",
       "\n",
       "    .dataframe tbody tr th {\n",
       "        vertical-align: top;\n",
       "    }\n",
       "\n",
       "    .dataframe thead th {\n",
       "        text-align: right;\n",
       "    }\n",
       "</style>\n",
       "<table border=\"1\" class=\"dataframe\">\n",
       "  <thead>\n",
       "    <tr style=\"text-align: right;\">\n",
       "      <th></th>\n",
       "      <th>SKU</th>\n",
       "      <th>Weight (g)</th>\n",
       "    </tr>\n",
       "  </thead>\n",
       "  <tbody>\n",
       "    <tr>\n",
       "      <th>0</th>\n",
       "      <td>8904223815682</td>\n",
       "      <td>210</td>\n",
       "    </tr>\n",
       "    <tr>\n",
       "      <th>1</th>\n",
       "      <td>8904223815859</td>\n",
       "      <td>165</td>\n",
       "    </tr>\n",
       "    <tr>\n",
       "      <th>2</th>\n",
       "      <td>8904223815866</td>\n",
       "      <td>113</td>\n",
       "    </tr>\n",
       "    <tr>\n",
       "      <th>3</th>\n",
       "      <td>8904223815873</td>\n",
       "      <td>65</td>\n",
       "    </tr>\n",
       "    <tr>\n",
       "      <th>4</th>\n",
       "      <td>8904223816214</td>\n",
       "      <td>120</td>\n",
       "    </tr>\n",
       "    <tr>\n",
       "      <th>...</th>\n",
       "      <td>...</td>\n",
       "      <td>...</td>\n",
       "    </tr>\n",
       "    <tr>\n",
       "      <th>61</th>\n",
       "      <td>8904223819505</td>\n",
       "      <td>210</td>\n",
       "    </tr>\n",
       "    <tr>\n",
       "      <th>62</th>\n",
       "      <td>8904223819499</td>\n",
       "      <td>210</td>\n",
       "    </tr>\n",
       "    <tr>\n",
       "      <th>63</th>\n",
       "      <td>8904223819512</td>\n",
       "      <td>210</td>\n",
       "    </tr>\n",
       "    <tr>\n",
       "      <th>64</th>\n",
       "      <td>8904223819543</td>\n",
       "      <td>300</td>\n",
       "    </tr>\n",
       "    <tr>\n",
       "      <th>65</th>\n",
       "      <td>SACHETS001</td>\n",
       "      <td>10</td>\n",
       "    </tr>\n",
       "  </tbody>\n",
       "</table>\n",
       "<p>66 rows × 2 columns</p>\n",
       "</div>"
      ],
      "text/plain": [
       "              SKU  Weight (g)\n",
       "0   8904223815682         210\n",
       "1   8904223815859         165\n",
       "2   8904223815866         113\n",
       "3   8904223815873          65\n",
       "4   8904223816214         120\n",
       "..            ...         ...\n",
       "61  8904223819505         210\n",
       "62  8904223819499         210\n",
       "63  8904223819512         210\n",
       "64  8904223819543         300\n",
       "65     SACHETS001          10\n",
       "\n",
       "[66 rows x 2 columns]"
      ]
     },
     "execution_count": 43,
     "metadata": {},
     "output_type": "execute_result"
    }
   ],
   "source": [
    "#Dropping columns with missing values\n",
    "sku_master.drop(columns=[\"Unnamed: 2\", \"Unnamed: 3\", \"Unnamed: 4\"],inplace=True)\n",
    "sku_master"
   ]
  },
  {
   "cell_type": "code",
   "execution_count": 44,
   "id": "6d3c14ec",
   "metadata": {},
   "outputs": [
    {
     "data": {
      "text/html": [
       "<div>\n",
       "<style scoped>\n",
       "    .dataframe tbody tr th:only-of-type {\n",
       "        vertical-align: middle;\n",
       "    }\n",
       "\n",
       "    .dataframe tbody tr th {\n",
       "        vertical-align: top;\n",
       "    }\n",
       "\n",
       "    .dataframe thead th {\n",
       "        text-align: right;\n",
       "    }\n",
       "</style>\n",
       "<table border=\"1\" class=\"dataframe\">\n",
       "  <thead>\n",
       "    <tr style=\"text-align: right;\">\n",
       "      <th></th>\n",
       "      <th>Warehouse Pincode</th>\n",
       "      <th>Customer Pincode</th>\n",
       "      <th>Zone</th>\n",
       "    </tr>\n",
       "  </thead>\n",
       "  <tbody>\n",
       "    <tr>\n",
       "      <th>0</th>\n",
       "      <td>121003</td>\n",
       "      <td>507101</td>\n",
       "      <td>d</td>\n",
       "    </tr>\n",
       "    <tr>\n",
       "      <th>1</th>\n",
       "      <td>121003</td>\n",
       "      <td>486886</td>\n",
       "      <td>d</td>\n",
       "    </tr>\n",
       "    <tr>\n",
       "      <th>2</th>\n",
       "      <td>121003</td>\n",
       "      <td>532484</td>\n",
       "      <td>d</td>\n",
       "    </tr>\n",
       "    <tr>\n",
       "      <th>3</th>\n",
       "      <td>121003</td>\n",
       "      <td>143001</td>\n",
       "      <td>b</td>\n",
       "    </tr>\n",
       "    <tr>\n",
       "      <th>4</th>\n",
       "      <td>121003</td>\n",
       "      <td>515591</td>\n",
       "      <td>d</td>\n",
       "    </tr>\n",
       "  </tbody>\n",
       "</table>\n",
       "</div>"
      ],
      "text/plain": [
       "   Warehouse Pincode  Customer Pincode Zone\n",
       "0             121003            507101    d\n",
       "1             121003            486886    d\n",
       "2             121003            532484    d\n",
       "3             121003            143001    b\n",
       "4             121003            515591    d"
      ]
     },
     "execution_count": 44,
     "metadata": {},
     "output_type": "execute_result"
    }
   ],
   "source": [
    "#Dropping columns with missing values\n",
    "pincode_mapping.drop(columns=[\"Unnamed: 3\", \"Unnamed: 4\"], inplace=True)\n",
    "pincode_mapping.head()"
   ]
  },
  {
   "cell_type": "code",
   "execution_count": 45,
   "id": "c034de9b",
   "metadata": {},
   "outputs": [
    {
     "data": {
      "text/html": [
       "<div>\n",
       "<style scoped>\n",
       "    .dataframe tbody tr th:only-of-type {\n",
       "        vertical-align: middle;\n",
       "    }\n",
       "\n",
       "    .dataframe tbody tr th {\n",
       "        vertical-align: top;\n",
       "    }\n",
       "\n",
       "    .dataframe thead th {\n",
       "        text-align: right;\n",
       "    }\n",
       "</style>\n",
       "<table border=\"1\" class=\"dataframe\">\n",
       "  <thead>\n",
       "    <tr style=\"text-align: right;\">\n",
       "      <th></th>\n",
       "      <th>ExternOrderNo</th>\n",
       "      <th>SKU</th>\n",
       "      <th>Order Qty</th>\n",
       "    </tr>\n",
       "  </thead>\n",
       "  <tbody>\n",
       "    <tr>\n",
       "      <th>0</th>\n",
       "      <td>2001827036</td>\n",
       "      <td>8904223818706</td>\n",
       "      <td>1.0</td>\n",
       "    </tr>\n",
       "    <tr>\n",
       "      <th>1</th>\n",
       "      <td>2001827036</td>\n",
       "      <td>8904223819093</td>\n",
       "      <td>1.0</td>\n",
       "    </tr>\n",
       "    <tr>\n",
       "      <th>2</th>\n",
       "      <td>2001827036</td>\n",
       "      <td>8904223819109</td>\n",
       "      <td>1.0</td>\n",
       "    </tr>\n",
       "    <tr>\n",
       "      <th>3</th>\n",
       "      <td>2001827036</td>\n",
       "      <td>8904223818430</td>\n",
       "      <td>1.0</td>\n",
       "    </tr>\n",
       "    <tr>\n",
       "      <th>4</th>\n",
       "      <td>2001827036</td>\n",
       "      <td>8904223819277</td>\n",
       "      <td>1.0</td>\n",
       "    </tr>\n",
       "  </tbody>\n",
       "</table>\n",
       "</div>"
      ],
      "text/plain": [
       "   ExternOrderNo            SKU  Order Qty\n",
       "0     2001827036  8904223818706        1.0\n",
       "1     2001827036  8904223819093        1.0\n",
       "2     2001827036  8904223819109        1.0\n",
       "3     2001827036  8904223818430        1.0\n",
       "4     2001827036  8904223819277        1.0"
      ]
     },
     "execution_count": 45,
     "metadata": {},
     "output_type": "execute_result"
    }
   ],
   "source": [
    "Order_report.head()"
   ]
  },
  {
   "cell_type": "code",
   "execution_count": 46,
   "id": "5e250074",
   "metadata": {},
   "outputs": [
    {
     "data": {
      "text/html": [
       "<div>\n",
       "<style scoped>\n",
       "    .dataframe tbody tr th:only-of-type {\n",
       "        vertical-align: middle;\n",
       "    }\n",
       "\n",
       "    .dataframe tbody tr th {\n",
       "        vertical-align: top;\n",
       "    }\n",
       "\n",
       "    .dataframe thead th {\n",
       "        text-align: right;\n",
       "    }\n",
       "</style>\n",
       "<table border=\"1\" class=\"dataframe\">\n",
       "  <thead>\n",
       "    <tr style=\"text-align: right;\">\n",
       "      <th></th>\n",
       "      <th>ExternOrderNo</th>\n",
       "      <th>SKU</th>\n",
       "      <th>Order Qty</th>\n",
       "      <th>Weight (g)</th>\n",
       "    </tr>\n",
       "  </thead>\n",
       "  <tbody>\n",
       "    <tr>\n",
       "      <th>0</th>\n",
       "      <td>2001827036</td>\n",
       "      <td>8904223818706</td>\n",
       "      <td>1.0</td>\n",
       "      <td>127</td>\n",
       "    </tr>\n",
       "    <tr>\n",
       "      <th>1</th>\n",
       "      <td>2001827036</td>\n",
       "      <td>8904223819093</td>\n",
       "      <td>1.0</td>\n",
       "      <td>150</td>\n",
       "    </tr>\n",
       "    <tr>\n",
       "      <th>2</th>\n",
       "      <td>2001827036</td>\n",
       "      <td>8904223819109</td>\n",
       "      <td>1.0</td>\n",
       "      <td>100</td>\n",
       "    </tr>\n",
       "    <tr>\n",
       "      <th>3</th>\n",
       "      <td>2001827036</td>\n",
       "      <td>8904223818430</td>\n",
       "      <td>1.0</td>\n",
       "      <td>165</td>\n",
       "    </tr>\n",
       "    <tr>\n",
       "      <th>4</th>\n",
       "      <td>2001827036</td>\n",
       "      <td>8904223819277</td>\n",
       "      <td>1.0</td>\n",
       "      <td>350</td>\n",
       "    </tr>\n",
       "  </tbody>\n",
       "</table>\n",
       "</div>"
      ],
      "text/plain": [
       "   ExternOrderNo            SKU  Order Qty  Weight (g)\n",
       "0     2001827036  8904223818706        1.0         127\n",
       "1     2001827036  8904223819093        1.0         150\n",
       "2     2001827036  8904223819109        1.0         100\n",
       "3     2001827036  8904223818430        1.0         165\n",
       "4     2001827036  8904223819277        1.0         350"
      ]
     },
     "execution_count": 46,
     "metadata": {},
     "output_type": "execute_result"
    }
   ],
   "source": [
    "merged_data = pd.merge(Order_report, sku_master, on=\"SKU\")\n",
    "merged_data.head()"
   ]
  },
  {
   "cell_type": "code",
   "execution_count": 47,
   "id": "1e2ce2bc",
   "metadata": {},
   "outputs": [],
   "source": [
    "#ExternalOrderNo is nothing but Order ID. Changing the name of column\n",
    "merged_data.rename(columns={\"ExternOrderNo\": \"Order ID\"}, inplace=True)"
   ]
  },
  {
   "cell_type": "code",
   "execution_count": 48,
   "id": "eeea5040",
   "metadata": {},
   "outputs": [
    {
     "data": {
      "text/html": [
       "<div>\n",
       "<style scoped>\n",
       "    .dataframe tbody tr th:only-of-type {\n",
       "        vertical-align: middle;\n",
       "    }\n",
       "\n",
       "    .dataframe tbody tr th {\n",
       "        vertical-align: top;\n",
       "    }\n",
       "\n",
       "    .dataframe thead th {\n",
       "        text-align: right;\n",
       "    }\n",
       "</style>\n",
       "<table border=\"1\" class=\"dataframe\">\n",
       "  <thead>\n",
       "    <tr style=\"text-align: right;\">\n",
       "      <th></th>\n",
       "      <th>Warehouse Pincode</th>\n",
       "      <th>Customer Pincode</th>\n",
       "      <th>Zone</th>\n",
       "    </tr>\n",
       "  </thead>\n",
       "  <tbody>\n",
       "    <tr>\n",
       "      <th>0</th>\n",
       "      <td>121003</td>\n",
       "      <td>507101</td>\n",
       "      <td>d</td>\n",
       "    </tr>\n",
       "    <tr>\n",
       "      <th>1</th>\n",
       "      <td>121003</td>\n",
       "      <td>486886</td>\n",
       "      <td>d</td>\n",
       "    </tr>\n",
       "    <tr>\n",
       "      <th>2</th>\n",
       "      <td>121003</td>\n",
       "      <td>532484</td>\n",
       "      <td>d</td>\n",
       "    </tr>\n",
       "    <tr>\n",
       "      <th>3</th>\n",
       "      <td>121003</td>\n",
       "      <td>143001</td>\n",
       "      <td>b</td>\n",
       "    </tr>\n",
       "    <tr>\n",
       "      <th>4</th>\n",
       "      <td>121003</td>\n",
       "      <td>515591</td>\n",
       "      <td>d</td>\n",
       "    </tr>\n",
       "    <tr>\n",
       "      <th>...</th>\n",
       "      <td>...</td>\n",
       "      <td>...</td>\n",
       "      <td>...</td>\n",
       "    </tr>\n",
       "    <tr>\n",
       "      <th>114</th>\n",
       "      <td>121003</td>\n",
       "      <td>324008</td>\n",
       "      <td>b</td>\n",
       "    </tr>\n",
       "    <tr>\n",
       "      <th>115</th>\n",
       "      <td>121003</td>\n",
       "      <td>302020</td>\n",
       "      <td>b</td>\n",
       "    </tr>\n",
       "    <tr>\n",
       "      <th>119</th>\n",
       "      <td>121003</td>\n",
       "      <td>325207</td>\n",
       "      <td>b</td>\n",
       "    </tr>\n",
       "    <tr>\n",
       "      <th>120</th>\n",
       "      <td>121003</td>\n",
       "      <td>303702</td>\n",
       "      <td>b</td>\n",
       "    </tr>\n",
       "    <tr>\n",
       "      <th>121</th>\n",
       "      <td>121003</td>\n",
       "      <td>313301</td>\n",
       "      <td>b</td>\n",
       "    </tr>\n",
       "  </tbody>\n",
       "</table>\n",
       "<p>108 rows × 3 columns</p>\n",
       "</div>"
      ],
      "text/plain": [
       "     Warehouse Pincode  Customer Pincode Zone\n",
       "0               121003            507101    d\n",
       "1               121003            486886    d\n",
       "2               121003            532484    d\n",
       "3               121003            143001    b\n",
       "4               121003            515591    d\n",
       "..                 ...               ...  ...\n",
       "114             121003            324008    b\n",
       "115             121003            302020    b\n",
       "119             121003            325207    b\n",
       "120             121003            303702    b\n",
       "121             121003            313301    b\n",
       "\n",
       "[108 rows x 3 columns]"
      ]
     },
     "execution_count": 48,
     "metadata": {},
     "output_type": "execute_result"
    }
   ],
   "source": [
    "abc_courier = pincode_mapping.drop_duplicates(subset=['Customer Pincode'])\n",
    "abc_courier"
   ]
  },
  {
   "cell_type": "code",
   "execution_count": 49,
   "id": "bf19cc71",
   "metadata": {},
   "outputs": [
    {
     "data": {
      "text/html": [
       "<div>\n",
       "<style scoped>\n",
       "    .dataframe tbody tr th:only-of-type {\n",
       "        vertical-align: middle;\n",
       "    }\n",
       "\n",
       "    .dataframe tbody tr th {\n",
       "        vertical-align: top;\n",
       "    }\n",
       "\n",
       "    .dataframe thead th {\n",
       "        text-align: right;\n",
       "    }\n",
       "</style>\n",
       "<table border=\"1\" class=\"dataframe\">\n",
       "  <thead>\n",
       "    <tr style=\"text-align: right;\">\n",
       "      <th></th>\n",
       "      <th>Order ID</th>\n",
       "      <th>Customer Pincode</th>\n",
       "      <th>Type of Shipment</th>\n",
       "    </tr>\n",
       "  </thead>\n",
       "  <tbody>\n",
       "    <tr>\n",
       "      <th>0</th>\n",
       "      <td>2001806232</td>\n",
       "      <td>507101</td>\n",
       "      <td>Forward charges</td>\n",
       "    </tr>\n",
       "    <tr>\n",
       "      <th>1</th>\n",
       "      <td>2001806273</td>\n",
       "      <td>486886</td>\n",
       "      <td>Forward charges</td>\n",
       "    </tr>\n",
       "    <tr>\n",
       "      <th>2</th>\n",
       "      <td>2001806408</td>\n",
       "      <td>532484</td>\n",
       "      <td>Forward charges</td>\n",
       "    </tr>\n",
       "    <tr>\n",
       "      <th>3</th>\n",
       "      <td>2001806458</td>\n",
       "      <td>143001</td>\n",
       "      <td>Forward charges</td>\n",
       "    </tr>\n",
       "    <tr>\n",
       "      <th>4</th>\n",
       "      <td>2001807012</td>\n",
       "      <td>515591</td>\n",
       "      <td>Forward charges</td>\n",
       "    </tr>\n",
       "    <tr>\n",
       "      <th>...</th>\n",
       "      <td>...</td>\n",
       "      <td>...</td>\n",
       "      <td>...</td>\n",
       "    </tr>\n",
       "    <tr>\n",
       "      <th>119</th>\n",
       "      <td>2001812941</td>\n",
       "      <td>325207</td>\n",
       "      <td>Forward charges</td>\n",
       "    </tr>\n",
       "    <tr>\n",
       "      <th>120</th>\n",
       "      <td>2001809383</td>\n",
       "      <td>303702</td>\n",
       "      <td>Forward and RTO charges</td>\n",
       "    </tr>\n",
       "    <tr>\n",
       "      <th>121</th>\n",
       "      <td>2001820978</td>\n",
       "      <td>313301</td>\n",
       "      <td>Forward charges</td>\n",
       "    </tr>\n",
       "    <tr>\n",
       "      <th>122</th>\n",
       "      <td>2001811475</td>\n",
       "      <td>173212</td>\n",
       "      <td>Forward charges</td>\n",
       "    </tr>\n",
       "    <tr>\n",
       "      <th>123</th>\n",
       "      <td>2001811305</td>\n",
       "      <td>302020</td>\n",
       "      <td>Forward charges</td>\n",
       "    </tr>\n",
       "  </tbody>\n",
       "</table>\n",
       "<p>124 rows × 3 columns</p>\n",
       "</div>"
      ],
      "text/plain": [
       "       Order ID  Customer Pincode         Type of Shipment\n",
       "0    2001806232            507101          Forward charges\n",
       "1    2001806273            486886          Forward charges\n",
       "2    2001806408            532484          Forward charges\n",
       "3    2001806458            143001          Forward charges\n",
       "4    2001807012            515591          Forward charges\n",
       "..          ...               ...                      ...\n",
       "119  2001812941            325207          Forward charges\n",
       "120  2001809383            303702  Forward and RTO charges\n",
       "121  2001820978            313301          Forward charges\n",
       "122  2001811475            173212          Forward charges\n",
       "123  2001811305            302020          Forward charges\n",
       "\n",
       "[124 rows x 3 columns]"
      ]
     },
     "execution_count": 49,
     "metadata": {},
     "output_type": "execute_result"
    }
   ],
   "source": [
    "courier_abc = courier_invoice[[\"Order ID\", \"Customer Pincode\", \"Type of Shipment\"]]\n",
    "courier_abc"
   ]
  },
  {
   "cell_type": "code",
   "execution_count": 50,
   "id": "0be843e0",
   "metadata": {},
   "outputs": [
    {
     "data": {
      "text/html": [
       "<div>\n",
       "<style scoped>\n",
       "    .dataframe tbody tr th:only-of-type {\n",
       "        vertical-align: middle;\n",
       "    }\n",
       "\n",
       "    .dataframe tbody tr th {\n",
       "        vertical-align: top;\n",
       "    }\n",
       "\n",
       "    .dataframe thead th {\n",
       "        text-align: right;\n",
       "    }\n",
       "</style>\n",
       "<table border=\"1\" class=\"dataframe\">\n",
       "  <thead>\n",
       "    <tr style=\"text-align: right;\">\n",
       "      <th></th>\n",
       "      <th>Order ID</th>\n",
       "      <th>Customer Pincode</th>\n",
       "      <th>Type of Shipment</th>\n",
       "      <th>Warehouse Pincode</th>\n",
       "      <th>Zone</th>\n",
       "    </tr>\n",
       "  </thead>\n",
       "  <tbody>\n",
       "    <tr>\n",
       "      <th>0</th>\n",
       "      <td>2001806232</td>\n",
       "      <td>507101</td>\n",
       "      <td>Forward charges</td>\n",
       "      <td>121003</td>\n",
       "      <td>d</td>\n",
       "    </tr>\n",
       "    <tr>\n",
       "      <th>1</th>\n",
       "      <td>2001806273</td>\n",
       "      <td>486886</td>\n",
       "      <td>Forward charges</td>\n",
       "      <td>121003</td>\n",
       "      <td>d</td>\n",
       "    </tr>\n",
       "    <tr>\n",
       "      <th>2</th>\n",
       "      <td>2001806408</td>\n",
       "      <td>532484</td>\n",
       "      <td>Forward charges</td>\n",
       "      <td>121003</td>\n",
       "      <td>d</td>\n",
       "    </tr>\n",
       "    <tr>\n",
       "      <th>3</th>\n",
       "      <td>2001806458</td>\n",
       "      <td>143001</td>\n",
       "      <td>Forward charges</td>\n",
       "      <td>121003</td>\n",
       "      <td>b</td>\n",
       "    </tr>\n",
       "    <tr>\n",
       "      <th>4</th>\n",
       "      <td>2001807012</td>\n",
       "      <td>515591</td>\n",
       "      <td>Forward charges</td>\n",
       "      <td>121003</td>\n",
       "      <td>d</td>\n",
       "    </tr>\n",
       "    <tr>\n",
       "      <th>...</th>\n",
       "      <td>...</td>\n",
       "      <td>...</td>\n",
       "      <td>...</td>\n",
       "      <td>...</td>\n",
       "      <td>...</td>\n",
       "    </tr>\n",
       "    <tr>\n",
       "      <th>119</th>\n",
       "      <td>2001812941</td>\n",
       "      <td>325207</td>\n",
       "      <td>Forward charges</td>\n",
       "      <td>121003</td>\n",
       "      <td>b</td>\n",
       "    </tr>\n",
       "    <tr>\n",
       "      <th>120</th>\n",
       "      <td>2001809383</td>\n",
       "      <td>303702</td>\n",
       "      <td>Forward and RTO charges</td>\n",
       "      <td>121003</td>\n",
       "      <td>b</td>\n",
       "    </tr>\n",
       "    <tr>\n",
       "      <th>121</th>\n",
       "      <td>2001820978</td>\n",
       "      <td>313301</td>\n",
       "      <td>Forward charges</td>\n",
       "      <td>121003</td>\n",
       "      <td>b</td>\n",
       "    </tr>\n",
       "    <tr>\n",
       "      <th>122</th>\n",
       "      <td>2001811475</td>\n",
       "      <td>173212</td>\n",
       "      <td>Forward charges</td>\n",
       "      <td>121003</td>\n",
       "      <td>e</td>\n",
       "    </tr>\n",
       "    <tr>\n",
       "      <th>123</th>\n",
       "      <td>2001811305</td>\n",
       "      <td>302020</td>\n",
       "      <td>Forward charges</td>\n",
       "      <td>121003</td>\n",
       "      <td>b</td>\n",
       "    </tr>\n",
       "  </tbody>\n",
       "</table>\n",
       "<p>124 rows × 5 columns</p>\n",
       "</div>"
      ],
      "text/plain": [
       "       Order ID  Customer Pincode         Type of Shipment  Warehouse Pincode  \\\n",
       "0    2001806232            507101          Forward charges             121003   \n",
       "1    2001806273            486886          Forward charges             121003   \n",
       "2    2001806408            532484          Forward charges             121003   \n",
       "3    2001806458            143001          Forward charges             121003   \n",
       "4    2001807012            515591          Forward charges             121003   \n",
       "..          ...               ...                      ...                ...   \n",
       "119  2001812941            325207          Forward charges             121003   \n",
       "120  2001809383            303702  Forward and RTO charges             121003   \n",
       "121  2001820978            313301          Forward charges             121003   \n",
       "122  2001811475            173212          Forward charges             121003   \n",
       "123  2001811305            302020          Forward charges             121003   \n",
       "\n",
       "    Zone  \n",
       "0      d  \n",
       "1      d  \n",
       "2      d  \n",
       "3      b  \n",
       "4      d  \n",
       "..   ...  \n",
       "119    b  \n",
       "120    b  \n",
       "121    b  \n",
       "122    e  \n",
       "123    b  \n",
       "\n",
       "[124 rows x 5 columns]"
      ]
     },
     "execution_count": 50,
     "metadata": {},
     "output_type": "execute_result"
    }
   ],
   "source": [
    "pincodes = pd.merge(courier_abc, abc_courier, on=\"Customer Pincode\")\n",
    "pincodes"
   ]
  },
  {
   "cell_type": "code",
   "execution_count": 51,
   "id": "d1e74542",
   "metadata": {},
   "outputs": [
    {
     "data": {
      "text/html": [
       "<div>\n",
       "<style scoped>\n",
       "    .dataframe tbody tr th:only-of-type {\n",
       "        vertical-align: middle;\n",
       "    }\n",
       "\n",
       "    .dataframe tbody tr th {\n",
       "        vertical-align: top;\n",
       "    }\n",
       "\n",
       "    .dataframe thead th {\n",
       "        text-align: right;\n",
       "    }\n",
       "</style>\n",
       "<table border=\"1\" class=\"dataframe\">\n",
       "  <thead>\n",
       "    <tr style=\"text-align: right;\">\n",
       "      <th></th>\n",
       "      <th>Order ID</th>\n",
       "      <th>SKU</th>\n",
       "      <th>Order Qty</th>\n",
       "      <th>Weight (g)</th>\n",
       "      <th>Customer Pincode</th>\n",
       "      <th>Type of Shipment</th>\n",
       "      <th>Warehouse Pincode</th>\n",
       "      <th>Zone</th>\n",
       "    </tr>\n",
       "  </thead>\n",
       "  <tbody>\n",
       "    <tr>\n",
       "      <th>0</th>\n",
       "      <td>2001827036</td>\n",
       "      <td>8904223818706</td>\n",
       "      <td>1.0</td>\n",
       "      <td>127</td>\n",
       "      <td>173213</td>\n",
       "      <td>Forward charges</td>\n",
       "      <td>121003</td>\n",
       "      <td>e</td>\n",
       "    </tr>\n",
       "    <tr>\n",
       "      <th>1</th>\n",
       "      <td>2001827036</td>\n",
       "      <td>8904223819093</td>\n",
       "      <td>1.0</td>\n",
       "      <td>150</td>\n",
       "      <td>173213</td>\n",
       "      <td>Forward charges</td>\n",
       "      <td>121003</td>\n",
       "      <td>e</td>\n",
       "    </tr>\n",
       "    <tr>\n",
       "      <th>2</th>\n",
       "      <td>2001827036</td>\n",
       "      <td>8904223819109</td>\n",
       "      <td>1.0</td>\n",
       "      <td>100</td>\n",
       "      <td>173213</td>\n",
       "      <td>Forward charges</td>\n",
       "      <td>121003</td>\n",
       "      <td>e</td>\n",
       "    </tr>\n",
       "    <tr>\n",
       "      <th>3</th>\n",
       "      <td>2001827036</td>\n",
       "      <td>8904223818430</td>\n",
       "      <td>1.0</td>\n",
       "      <td>165</td>\n",
       "      <td>173213</td>\n",
       "      <td>Forward charges</td>\n",
       "      <td>121003</td>\n",
       "      <td>e</td>\n",
       "    </tr>\n",
       "    <tr>\n",
       "      <th>4</th>\n",
       "      <td>2001827036</td>\n",
       "      <td>8904223819277</td>\n",
       "      <td>1.0</td>\n",
       "      <td>350</td>\n",
       "      <td>173213</td>\n",
       "      <td>Forward charges</td>\n",
       "      <td>121003</td>\n",
       "      <td>e</td>\n",
       "    </tr>\n",
       "    <tr>\n",
       "      <th>...</th>\n",
       "      <td>...</td>\n",
       "      <td>...</td>\n",
       "      <td>...</td>\n",
       "      <td>...</td>\n",
       "      <td>...</td>\n",
       "      <td>...</td>\n",
       "      <td>...</td>\n",
       "      <td>...</td>\n",
       "    </tr>\n",
       "    <tr>\n",
       "      <th>396</th>\n",
       "      <td>2001806229</td>\n",
       "      <td>8904223818942</td>\n",
       "      <td>1.0</td>\n",
       "      <td>133</td>\n",
       "      <td>421204</td>\n",
       "      <td>Forward charges</td>\n",
       "      <td>121003</td>\n",
       "      <td>d</td>\n",
       "    </tr>\n",
       "    <tr>\n",
       "      <th>397</th>\n",
       "      <td>2001806229</td>\n",
       "      <td>8904223818850</td>\n",
       "      <td>1.0</td>\n",
       "      <td>240</td>\n",
       "      <td>421204</td>\n",
       "      <td>Forward charges</td>\n",
       "      <td>121003</td>\n",
       "      <td>d</td>\n",
       "    </tr>\n",
       "    <tr>\n",
       "      <th>398</th>\n",
       "      <td>2001806226</td>\n",
       "      <td>8904223818850</td>\n",
       "      <td>2.0</td>\n",
       "      <td>240</td>\n",
       "      <td>723146</td>\n",
       "      <td>Forward charges</td>\n",
       "      <td>121003</td>\n",
       "      <td>d</td>\n",
       "    </tr>\n",
       "    <tr>\n",
       "      <th>399</th>\n",
       "      <td>2001806210</td>\n",
       "      <td>8904223816214</td>\n",
       "      <td>1.0</td>\n",
       "      <td>120</td>\n",
       "      <td>140604</td>\n",
       "      <td>Forward charges</td>\n",
       "      <td>121003</td>\n",
       "      <td>b</td>\n",
       "    </tr>\n",
       "    <tr>\n",
       "      <th>400</th>\n",
       "      <td>2001806210</td>\n",
       "      <td>8904223818874</td>\n",
       "      <td>1.0</td>\n",
       "      <td>100</td>\n",
       "      <td>140604</td>\n",
       "      <td>Forward charges</td>\n",
       "      <td>121003</td>\n",
       "      <td>b</td>\n",
       "    </tr>\n",
       "  </tbody>\n",
       "</table>\n",
       "<p>401 rows × 8 columns</p>\n",
       "</div>"
      ],
      "text/plain": [
       "       Order ID            SKU  Order Qty  Weight (g)  Customer Pincode  \\\n",
       "0    2001827036  8904223818706        1.0         127            173213   \n",
       "1    2001827036  8904223819093        1.0         150            173213   \n",
       "2    2001827036  8904223819109        1.0         100            173213   \n",
       "3    2001827036  8904223818430        1.0         165            173213   \n",
       "4    2001827036  8904223819277        1.0         350            173213   \n",
       "..          ...            ...        ...         ...               ...   \n",
       "396  2001806229  8904223818942        1.0         133            421204   \n",
       "397  2001806229  8904223818850        1.0         240            421204   \n",
       "398  2001806226  8904223818850        2.0         240            723146   \n",
       "399  2001806210  8904223816214        1.0         120            140604   \n",
       "400  2001806210  8904223818874        1.0         100            140604   \n",
       "\n",
       "    Type of Shipment  Warehouse Pincode Zone  \n",
       "0    Forward charges             121003    e  \n",
       "1    Forward charges             121003    e  \n",
       "2    Forward charges             121003    e  \n",
       "3    Forward charges             121003    e  \n",
       "4    Forward charges             121003    e  \n",
       "..               ...                ...  ...  \n",
       "396  Forward charges             121003    d  \n",
       "397  Forward charges             121003    d  \n",
       "398  Forward charges             121003    d  \n",
       "399  Forward charges             121003    b  \n",
       "400  Forward charges             121003    b  \n",
       "\n",
       "[401 rows x 8 columns]"
      ]
     },
     "execution_count": 51,
     "metadata": {},
     "output_type": "execute_result"
    }
   ],
   "source": [
    "merged2 = pd.merge(merged_data, pincodes, on=\"Order ID\")\n",
    "merged2"
   ]
  },
  {
   "cell_type": "code",
   "execution_count": 52,
   "id": "d947fa46",
   "metadata": {},
   "outputs": [],
   "source": [
    "merged2[\"Weight (Kgs)\"] = merged2[\"Weight (g)\"]/1000"
   ]
  },
  {
   "cell_type": "code",
   "execution_count": 53,
   "id": "9ad3e988",
   "metadata": {},
   "outputs": [],
   "source": [
    "def weight_slab(weight):\n",
    "    i = round(weight %1,1)\n",
    "    if i == 0.0:\n",
    "        return weight\n",
    "    elif weight > 0.5:\n",
    "        return int(weight) + 1.0\n",
    "    else:\n",
    "        return int(weight) + 0.5"
   ]
  },
  {
   "cell_type": "code",
   "execution_count": 54,
   "id": "fcc2a490",
   "metadata": {},
   "outputs": [],
   "source": [
    "merged2[\"Weight Slabs (Kgs)\"] = merged2[\"Weight (Kgs)\"].apply(weight_slab)"
   ]
  },
  {
   "cell_type": "code",
   "execution_count": 55,
   "id": "f4206a7e",
   "metadata": {},
   "outputs": [],
   "source": [
    "courier_invoice[\"Weight slab charged by courier company\"] = courier_invoice[\"Charged Weight\"].apply(weight_slab)"
   ]
  },
  {
   "cell_type": "code",
   "execution_count": 56,
   "id": "2c3eb2e6",
   "metadata": {},
   "outputs": [
    {
     "data": {
      "text/html": [
       "<div>\n",
       "<style scoped>\n",
       "    .dataframe tbody tr th:only-of-type {\n",
       "        vertical-align: middle;\n",
       "    }\n",
       "\n",
       "    .dataframe tbody tr th {\n",
       "        vertical-align: top;\n",
       "    }\n",
       "\n",
       "    .dataframe thead th {\n",
       "        text-align: right;\n",
       "    }\n",
       "</style>\n",
       "<table border=\"1\" class=\"dataframe\">\n",
       "  <thead>\n",
       "    <tr style=\"text-align: right;\">\n",
       "      <th></th>\n",
       "      <th>AWB Code</th>\n",
       "      <th>Order ID</th>\n",
       "      <th>Charged Weight</th>\n",
       "      <th>Warehouse Pincode</th>\n",
       "      <th>Customer Pincode</th>\n",
       "      <th>Delivery Zone Charged by Courier Company</th>\n",
       "      <th>Type of Shipment</th>\n",
       "      <th>Billing Amount (Rs.)</th>\n",
       "      <th>Weight slab charged by courier company</th>\n",
       "    </tr>\n",
       "  </thead>\n",
       "  <tbody>\n",
       "    <tr>\n",
       "      <th>0</th>\n",
       "      <td>1091117222124</td>\n",
       "      <td>2001806232</td>\n",
       "      <td>1.30</td>\n",
       "      <td>121003</td>\n",
       "      <td>507101</td>\n",
       "      <td>d</td>\n",
       "      <td>Forward charges</td>\n",
       "      <td>135.0</td>\n",
       "      <td>2.0</td>\n",
       "    </tr>\n",
       "    <tr>\n",
       "      <th>1</th>\n",
       "      <td>1091117222194</td>\n",
       "      <td>2001806273</td>\n",
       "      <td>1.00</td>\n",
       "      <td>121003</td>\n",
       "      <td>486886</td>\n",
       "      <td>d</td>\n",
       "      <td>Forward charges</td>\n",
       "      <td>90.2</td>\n",
       "      <td>1.0</td>\n",
       "    </tr>\n",
       "    <tr>\n",
       "      <th>2</th>\n",
       "      <td>1091117222931</td>\n",
       "      <td>2001806408</td>\n",
       "      <td>2.50</td>\n",
       "      <td>121003</td>\n",
       "      <td>532484</td>\n",
       "      <td>d</td>\n",
       "      <td>Forward charges</td>\n",
       "      <td>224.6</td>\n",
       "      <td>3.0</td>\n",
       "    </tr>\n",
       "    <tr>\n",
       "      <th>3</th>\n",
       "      <td>1091117223244</td>\n",
       "      <td>2001806458</td>\n",
       "      <td>1.00</td>\n",
       "      <td>121003</td>\n",
       "      <td>143001</td>\n",
       "      <td>b</td>\n",
       "      <td>Forward charges</td>\n",
       "      <td>61.3</td>\n",
       "      <td>1.0</td>\n",
       "    </tr>\n",
       "    <tr>\n",
       "      <th>4</th>\n",
       "      <td>1091117229345</td>\n",
       "      <td>2001807012</td>\n",
       "      <td>0.15</td>\n",
       "      <td>121003</td>\n",
       "      <td>515591</td>\n",
       "      <td>d</td>\n",
       "      <td>Forward charges</td>\n",
       "      <td>45.4</td>\n",
       "      <td>0.5</td>\n",
       "    </tr>\n",
       "    <tr>\n",
       "      <th>...</th>\n",
       "      <td>...</td>\n",
       "      <td>...</td>\n",
       "      <td>...</td>\n",
       "      <td>...</td>\n",
       "      <td>...</td>\n",
       "      <td>...</td>\n",
       "      <td>...</td>\n",
       "      <td>...</td>\n",
       "      <td>...</td>\n",
       "    </tr>\n",
       "    <tr>\n",
       "      <th>119</th>\n",
       "      <td>1091118551656</td>\n",
       "      <td>2001812941</td>\n",
       "      <td>0.73</td>\n",
       "      <td>121003</td>\n",
       "      <td>325207</td>\n",
       "      <td>d</td>\n",
       "      <td>Forward charges</td>\n",
       "      <td>90.2</td>\n",
       "      <td>1.0</td>\n",
       "    </tr>\n",
       "    <tr>\n",
       "      <th>120</th>\n",
       "      <td>1091117614452</td>\n",
       "      <td>2001809383</td>\n",
       "      <td>0.50</td>\n",
       "      <td>121003</td>\n",
       "      <td>303702</td>\n",
       "      <td>d</td>\n",
       "      <td>Forward and RTO charges</td>\n",
       "      <td>86.7</td>\n",
       "      <td>0.5</td>\n",
       "    </tr>\n",
       "    <tr>\n",
       "      <th>121</th>\n",
       "      <td>1091120922803</td>\n",
       "      <td>2001820978</td>\n",
       "      <td>0.50</td>\n",
       "      <td>121003</td>\n",
       "      <td>313301</td>\n",
       "      <td>d</td>\n",
       "      <td>Forward charges</td>\n",
       "      <td>45.4</td>\n",
       "      <td>0.5</td>\n",
       "    </tr>\n",
       "    <tr>\n",
       "      <th>122</th>\n",
       "      <td>1091121844806</td>\n",
       "      <td>2001811475</td>\n",
       "      <td>0.50</td>\n",
       "      <td>121003</td>\n",
       "      <td>173212</td>\n",
       "      <td>b</td>\n",
       "      <td>Forward charges</td>\n",
       "      <td>33.0</td>\n",
       "      <td>0.5</td>\n",
       "    </tr>\n",
       "    <tr>\n",
       "      <th>123</th>\n",
       "      <td>1091121846136</td>\n",
       "      <td>2001811305</td>\n",
       "      <td>0.50</td>\n",
       "      <td>121003</td>\n",
       "      <td>302020</td>\n",
       "      <td>d</td>\n",
       "      <td>Forward charges</td>\n",
       "      <td>45.4</td>\n",
       "      <td>0.5</td>\n",
       "    </tr>\n",
       "  </tbody>\n",
       "</table>\n",
       "<p>124 rows × 9 columns</p>\n",
       "</div>"
      ],
      "text/plain": [
       "          AWB Code    Order ID  Charged Weight  Warehouse Pincode  \\\n",
       "0    1091117222124  2001806232            1.30             121003   \n",
       "1    1091117222194  2001806273            1.00             121003   \n",
       "2    1091117222931  2001806408            2.50             121003   \n",
       "3    1091117223244  2001806458            1.00             121003   \n",
       "4    1091117229345  2001807012            0.15             121003   \n",
       "..             ...         ...             ...                ...   \n",
       "119  1091118551656  2001812941            0.73             121003   \n",
       "120  1091117614452  2001809383            0.50             121003   \n",
       "121  1091120922803  2001820978            0.50             121003   \n",
       "122  1091121844806  2001811475            0.50             121003   \n",
       "123  1091121846136  2001811305            0.50             121003   \n",
       "\n",
       "     Customer Pincode Delivery Zone Charged by Courier Company  \\\n",
       "0              507101                                        d   \n",
       "1              486886                                        d   \n",
       "2              532484                                        d   \n",
       "3              143001                                        b   \n",
       "4              515591                                        d   \n",
       "..                ...                                      ...   \n",
       "119            325207                                        d   \n",
       "120            303702                                        d   \n",
       "121            313301                                        d   \n",
       "122            173212                                        b   \n",
       "123            302020                                        d   \n",
       "\n",
       "            Type of Shipment  Billing Amount (Rs.)  \\\n",
       "0            Forward charges                 135.0   \n",
       "1            Forward charges                  90.2   \n",
       "2            Forward charges                 224.6   \n",
       "3            Forward charges                  61.3   \n",
       "4            Forward charges                  45.4   \n",
       "..                       ...                   ...   \n",
       "119          Forward charges                  90.2   \n",
       "120  Forward and RTO charges                  86.7   \n",
       "121          Forward charges                  45.4   \n",
       "122          Forward charges                  33.0   \n",
       "123          Forward charges                  45.4   \n",
       "\n",
       "     Weight slab charged by courier company  \n",
       "0                                       2.0  \n",
       "1                                       1.0  \n",
       "2                                       3.0  \n",
       "3                                       1.0  \n",
       "4                                       0.5  \n",
       "..                                      ...  \n",
       "119                                     1.0  \n",
       "120                                     0.5  \n",
       "121                                     0.5  \n",
       "122                                     0.5  \n",
       "123                                     0.5  \n",
       "\n",
       "[124 rows x 9 columns]"
      ]
     },
     "execution_count": 56,
     "metadata": {},
     "output_type": "execute_result"
    }
   ],
   "source": [
    "#Renaming columns\n",
    "courier_invoice = courier_invoice.rename(columns={\"Zone\": \"Delivery Zone Charged by Courier Company\"})\n",
    "courier_invoice"
   ]
  },
  {
   "cell_type": "code",
   "execution_count": 57,
   "id": "5453ef5d",
   "metadata": {},
   "outputs": [],
   "source": [
    "#Renaming the columns\n",
    "merged2.rename(columns={\"Zone\": \"Delivery Zone As Per ABC\", \"Weight Slabs (Kgs)\": \"Weight Slab As Per ABC\"}, inplace=True)"
   ]
  },
  {
   "cell_type": "code",
   "execution_count": 58,
   "id": "ef96b86d",
   "metadata": {},
   "outputs": [
    {
     "data": {
      "text/html": [
       "<div>\n",
       "<style scoped>\n",
       "    .dataframe tbody tr th:only-of-type {\n",
       "        vertical-align: middle;\n",
       "    }\n",
       "\n",
       "    .dataframe tbody tr th {\n",
       "        vertical-align: top;\n",
       "    }\n",
       "\n",
       "    .dataframe thead th {\n",
       "        text-align: right;\n",
       "    }\n",
       "</style>\n",
       "<table border=\"1\" class=\"dataframe\">\n",
       "  <thead>\n",
       "    <tr style=\"text-align: right;\">\n",
       "      <th></th>\n",
       "      <th>Order ID</th>\n",
       "      <th>SKU</th>\n",
       "      <th>Order Qty</th>\n",
       "      <th>Weight (g)</th>\n",
       "      <th>Customer Pincode</th>\n",
       "      <th>Type of Shipment</th>\n",
       "      <th>Warehouse Pincode</th>\n",
       "      <th>Delivery Zone As Per ABC</th>\n",
       "      <th>Weight (Kgs)</th>\n",
       "      <th>Weight Slab As Per ABC</th>\n",
       "    </tr>\n",
       "  </thead>\n",
       "  <tbody>\n",
       "    <tr>\n",
       "      <th>0</th>\n",
       "      <td>2001827036</td>\n",
       "      <td>8904223818706</td>\n",
       "      <td>1.0</td>\n",
       "      <td>127</td>\n",
       "      <td>173213</td>\n",
       "      <td>Forward charges</td>\n",
       "      <td>121003</td>\n",
       "      <td>e</td>\n",
       "      <td>0.127</td>\n",
       "      <td>0.5</td>\n",
       "    </tr>\n",
       "    <tr>\n",
       "      <th>1</th>\n",
       "      <td>2001827036</td>\n",
       "      <td>8904223819093</td>\n",
       "      <td>1.0</td>\n",
       "      <td>150</td>\n",
       "      <td>173213</td>\n",
       "      <td>Forward charges</td>\n",
       "      <td>121003</td>\n",
       "      <td>e</td>\n",
       "      <td>0.150</td>\n",
       "      <td>0.5</td>\n",
       "    </tr>\n",
       "    <tr>\n",
       "      <th>2</th>\n",
       "      <td>2001827036</td>\n",
       "      <td>8904223819109</td>\n",
       "      <td>1.0</td>\n",
       "      <td>100</td>\n",
       "      <td>173213</td>\n",
       "      <td>Forward charges</td>\n",
       "      <td>121003</td>\n",
       "      <td>e</td>\n",
       "      <td>0.100</td>\n",
       "      <td>0.5</td>\n",
       "    </tr>\n",
       "    <tr>\n",
       "      <th>3</th>\n",
       "      <td>2001827036</td>\n",
       "      <td>8904223818430</td>\n",
       "      <td>1.0</td>\n",
       "      <td>165</td>\n",
       "      <td>173213</td>\n",
       "      <td>Forward charges</td>\n",
       "      <td>121003</td>\n",
       "      <td>e</td>\n",
       "      <td>0.165</td>\n",
       "      <td>0.5</td>\n",
       "    </tr>\n",
       "    <tr>\n",
       "      <th>4</th>\n",
       "      <td>2001827036</td>\n",
       "      <td>8904223819277</td>\n",
       "      <td>1.0</td>\n",
       "      <td>350</td>\n",
       "      <td>173213</td>\n",
       "      <td>Forward charges</td>\n",
       "      <td>121003</td>\n",
       "      <td>e</td>\n",
       "      <td>0.350</td>\n",
       "      <td>0.5</td>\n",
       "    </tr>\n",
       "  </tbody>\n",
       "</table>\n",
       "</div>"
      ],
      "text/plain": [
       "     Order ID            SKU  Order Qty  Weight (g)  Customer Pincode  \\\n",
       "0  2001827036  8904223818706        1.0         127            173213   \n",
       "1  2001827036  8904223819093        1.0         150            173213   \n",
       "2  2001827036  8904223819109        1.0         100            173213   \n",
       "3  2001827036  8904223818430        1.0         165            173213   \n",
       "4  2001827036  8904223819277        1.0         350            173213   \n",
       "\n",
       "  Type of Shipment  Warehouse Pincode Delivery Zone As Per ABC  Weight (Kgs)  \\\n",
       "0  Forward charges             121003                        e         0.127   \n",
       "1  Forward charges             121003                        e         0.150   \n",
       "2  Forward charges             121003                        e         0.100   \n",
       "3  Forward charges             121003                        e         0.165   \n",
       "4  Forward charges             121003                        e         0.350   \n",
       "\n",
       "   Weight Slab As Per ABC  \n",
       "0                     0.5  \n",
       "1                     0.5  \n",
       "2                     0.5  \n",
       "3                     0.5  \n",
       "4                     0.5  "
      ]
     },
     "execution_count": 58,
     "metadata": {},
     "output_type": "execute_result"
    }
   ],
   "source": [
    "merged2.head()"
   ]
  },
  {
   "cell_type": "code",
   "execution_count": 59,
   "id": "bc2f7216",
   "metadata": {},
   "outputs": [
    {
     "data": {
      "text/html": [
       "<div>\n",
       "<style scoped>\n",
       "    .dataframe tbody tr th:only-of-type {\n",
       "        vertical-align: middle;\n",
       "    }\n",
       "\n",
       "    .dataframe tbody tr th {\n",
       "        vertical-align: top;\n",
       "    }\n",
       "\n",
       "    .dataframe thead th {\n",
       "        text-align: right;\n",
       "    }\n",
       "</style>\n",
       "<table border=\"1\" class=\"dataframe\">\n",
       "  <thead>\n",
       "    <tr style=\"text-align: right;\">\n",
       "      <th></th>\n",
       "      <th>fwd_a_fixed</th>\n",
       "      <th>fwd_a_additional</th>\n",
       "      <th>fwd_b_fixed</th>\n",
       "      <th>fwd_b_additional</th>\n",
       "      <th>fwd_c_fixed</th>\n",
       "      <th>fwd_c_additional</th>\n",
       "      <th>fwd_d_fixed</th>\n",
       "      <th>fwd_d_additional</th>\n",
       "      <th>fwd_e_fixed</th>\n",
       "      <th>fwd_e_additional</th>\n",
       "      <th>rto_a_fixed</th>\n",
       "      <th>rto_a_additional</th>\n",
       "      <th>rto_b_fixed</th>\n",
       "      <th>rto_b_additional</th>\n",
       "      <th>rto_c_fixed</th>\n",
       "      <th>rto_c_additional</th>\n",
       "      <th>rto_d_fixed</th>\n",
       "      <th>rto_d_additional</th>\n",
       "      <th>rto_e_fixed</th>\n",
       "      <th>rto_e_additional</th>\n",
       "    </tr>\n",
       "  </thead>\n",
       "  <tbody>\n",
       "    <tr>\n",
       "      <th>0</th>\n",
       "      <td>29.5</td>\n",
       "      <td>23.6</td>\n",
       "      <td>33</td>\n",
       "      <td>28.3</td>\n",
       "      <td>40.1</td>\n",
       "      <td>38.9</td>\n",
       "      <td>45.4</td>\n",
       "      <td>44.8</td>\n",
       "      <td>56.6</td>\n",
       "      <td>55.5</td>\n",
       "      <td>13.6</td>\n",
       "      <td>23.6</td>\n",
       "      <td>20.5</td>\n",
       "      <td>28.3</td>\n",
       "      <td>31.9</td>\n",
       "      <td>38.9</td>\n",
       "      <td>41.3</td>\n",
       "      <td>44.8</td>\n",
       "      <td>50.7</td>\n",
       "      <td>55.5</td>\n",
       "    </tr>\n",
       "  </tbody>\n",
       "</table>\n",
       "</div>"
      ],
      "text/plain": [
       "   fwd_a_fixed  fwd_a_additional  fwd_b_fixed  fwd_b_additional  fwd_c_fixed  \\\n",
       "0         29.5              23.6           33              28.3         40.1   \n",
       "\n",
       "   fwd_c_additional  fwd_d_fixed  fwd_d_additional  fwd_e_fixed  \\\n",
       "0              38.9         45.4              44.8         56.6   \n",
       "\n",
       "   fwd_e_additional  rto_a_fixed  rto_a_additional  rto_b_fixed  \\\n",
       "0              55.5         13.6              23.6         20.5   \n",
       "\n",
       "   rto_b_additional  rto_c_fixed  rto_c_additional  rto_d_fixed  \\\n",
       "0              28.3         31.9              38.9         41.3   \n",
       "\n",
       "   rto_d_additional  rto_e_fixed  rto_e_additional  \n",
       "0              44.8         50.7              55.5  "
      ]
     },
     "execution_count": 59,
     "metadata": {},
     "output_type": "execute_result"
    }
   ],
   "source": [
    "Courier_rates"
   ]
  },
  {
   "cell_type": "code",
   "execution_count": 60,
   "id": "d3a27390",
   "metadata": {},
   "outputs": [],
   "source": [
    "total_expected_charge = []\n",
    "\n",
    "for _,row in merged2.iterrows():\n",
    "    fwd_category = 'fwd_' + row['Delivery Zone As Per ABC']\n",
    "    fwd_fixed = Courier_rates.at[0, fwd_category + '_fixed']\n",
    "    fwd_additional = Courier_rates.at[0,fwd_category + '_additional']\n",
    "    rto_category = 'rto_' + row[\"Delivery Zone As Per ABC\"]\n",
    "    rto_fixed = Courier_rates.at[0, rto_category + \"_fixed\"]\n",
    "    rto_additional = Courier_rates.at[0, rto_category + '_additional']\n",
    "    \n",
    "    weight_slab = row[\"Weight Slab As Per ABC\"]\n",
    "    \n",
    "    if row[\"Type of Shipment\"] == 'Forward charges':\n",
    "        additional_weight = max(0, (weight_slab - 0.5) / 0.5)\n",
    "        total_expected_charge.append(fwd_fixed + additional_weight * fwd_additional)\n",
    "    elif row['Type of Shipment'] == 'Forward and RTO charges':\n",
    "        additional_weight = max(0, (weight_slab - 0.5) / 0.5)\n",
    "        total_expected_charge.append(fwd_fixed + additional_weight * (fwd_additional + rto_additional))\n",
    "    else:\n",
    "        total_expected_charge.append(0)\n",
    "\n",
    "merged2[\"Expected charge as per ABC\"] = total_expected_charge"
   ]
  },
  {
   "cell_type": "code",
   "execution_count": 61,
   "id": "dd995312",
   "metadata": {},
   "outputs": [
    {
     "data": {
      "text/html": [
       "<div>\n",
       "<style scoped>\n",
       "    .dataframe tbody tr th:only-of-type {\n",
       "        vertical-align: middle;\n",
       "    }\n",
       "\n",
       "    .dataframe tbody tr th {\n",
       "        vertical-align: top;\n",
       "    }\n",
       "\n",
       "    .dataframe thead th {\n",
       "        text-align: right;\n",
       "    }\n",
       "</style>\n",
       "<table border=\"1\" class=\"dataframe\">\n",
       "  <thead>\n",
       "    <tr style=\"text-align: right;\">\n",
       "      <th></th>\n",
       "      <th>Order ID</th>\n",
       "      <th>SKU</th>\n",
       "      <th>Order Qty</th>\n",
       "      <th>Weight (g)</th>\n",
       "      <th>Customer Pincode</th>\n",
       "      <th>Type of Shipment</th>\n",
       "      <th>Warehouse Pincode</th>\n",
       "      <th>Delivery Zone As Per ABC</th>\n",
       "      <th>Weight (Kgs)</th>\n",
       "      <th>Weight Slab As Per ABC</th>\n",
       "      <th>Expected charge as per ABC</th>\n",
       "    </tr>\n",
       "  </thead>\n",
       "  <tbody>\n",
       "    <tr>\n",
       "      <th>0</th>\n",
       "      <td>2001827036</td>\n",
       "      <td>8904223818706</td>\n",
       "      <td>1.0</td>\n",
       "      <td>127</td>\n",
       "      <td>173213</td>\n",
       "      <td>Forward charges</td>\n",
       "      <td>121003</td>\n",
       "      <td>e</td>\n",
       "      <td>0.127</td>\n",
       "      <td>0.5</td>\n",
       "      <td>56.6</td>\n",
       "    </tr>\n",
       "    <tr>\n",
       "      <th>1</th>\n",
       "      <td>2001827036</td>\n",
       "      <td>8904223819093</td>\n",
       "      <td>1.0</td>\n",
       "      <td>150</td>\n",
       "      <td>173213</td>\n",
       "      <td>Forward charges</td>\n",
       "      <td>121003</td>\n",
       "      <td>e</td>\n",
       "      <td>0.150</td>\n",
       "      <td>0.5</td>\n",
       "      <td>56.6</td>\n",
       "    </tr>\n",
       "    <tr>\n",
       "      <th>2</th>\n",
       "      <td>2001827036</td>\n",
       "      <td>8904223819109</td>\n",
       "      <td>1.0</td>\n",
       "      <td>100</td>\n",
       "      <td>173213</td>\n",
       "      <td>Forward charges</td>\n",
       "      <td>121003</td>\n",
       "      <td>e</td>\n",
       "      <td>0.100</td>\n",
       "      <td>0.5</td>\n",
       "      <td>56.6</td>\n",
       "    </tr>\n",
       "    <tr>\n",
       "      <th>3</th>\n",
       "      <td>2001827036</td>\n",
       "      <td>8904223818430</td>\n",
       "      <td>1.0</td>\n",
       "      <td>165</td>\n",
       "      <td>173213</td>\n",
       "      <td>Forward charges</td>\n",
       "      <td>121003</td>\n",
       "      <td>e</td>\n",
       "      <td>0.165</td>\n",
       "      <td>0.5</td>\n",
       "      <td>56.6</td>\n",
       "    </tr>\n",
       "    <tr>\n",
       "      <th>4</th>\n",
       "      <td>2001827036</td>\n",
       "      <td>8904223819277</td>\n",
       "      <td>1.0</td>\n",
       "      <td>350</td>\n",
       "      <td>173213</td>\n",
       "      <td>Forward charges</td>\n",
       "      <td>121003</td>\n",
       "      <td>e</td>\n",
       "      <td>0.350</td>\n",
       "      <td>0.5</td>\n",
       "      <td>56.6</td>\n",
       "    </tr>\n",
       "  </tbody>\n",
       "</table>\n",
       "</div>"
      ],
      "text/plain": [
       "     Order ID            SKU  Order Qty  Weight (g)  Customer Pincode  \\\n",
       "0  2001827036  8904223818706        1.0         127            173213   \n",
       "1  2001827036  8904223819093        1.0         150            173213   \n",
       "2  2001827036  8904223819109        1.0         100            173213   \n",
       "3  2001827036  8904223818430        1.0         165            173213   \n",
       "4  2001827036  8904223819277        1.0         350            173213   \n",
       "\n",
       "  Type of Shipment  Warehouse Pincode Delivery Zone As Per ABC  Weight (Kgs)  \\\n",
       "0  Forward charges             121003                        e         0.127   \n",
       "1  Forward charges             121003                        e         0.150   \n",
       "2  Forward charges             121003                        e         0.100   \n",
       "3  Forward charges             121003                        e         0.165   \n",
       "4  Forward charges             121003                        e         0.350   \n",
       "\n",
       "   Weight Slab As Per ABC  Expected charge as per ABC  \n",
       "0                     0.5                        56.6  \n",
       "1                     0.5                        56.6  \n",
       "2                     0.5                        56.6  \n",
       "3                     0.5                        56.6  \n",
       "4                     0.5                        56.6  "
      ]
     },
     "execution_count": 61,
     "metadata": {},
     "output_type": "execute_result"
    }
   ],
   "source": [
    "merged2.head()"
   ]
  },
  {
   "cell_type": "code",
   "execution_count": 62,
   "id": "196d7155",
   "metadata": {},
   "outputs": [
    {
     "data": {
      "text/html": [
       "<div>\n",
       "<style scoped>\n",
       "    .dataframe tbody tr th:only-of-type {\n",
       "        vertical-align: middle;\n",
       "    }\n",
       "\n",
       "    .dataframe tbody tr th {\n",
       "        vertical-align: top;\n",
       "    }\n",
       "\n",
       "    .dataframe thead th {\n",
       "        text-align: right;\n",
       "    }\n",
       "</style>\n",
       "<table border=\"1\" class=\"dataframe\">\n",
       "  <thead>\n",
       "    <tr style=\"text-align: right;\">\n",
       "      <th></th>\n",
       "      <th>Order ID</th>\n",
       "      <th>SKU</th>\n",
       "      <th>Order Qty</th>\n",
       "      <th>Weight (g)</th>\n",
       "      <th>Customer Pincode_x</th>\n",
       "      <th>Type of Shipment_x</th>\n",
       "      <th>Warehouse Pincode_x</th>\n",
       "      <th>Delivery Zone As Per ABC</th>\n",
       "      <th>Weight (Kgs)</th>\n",
       "      <th>Weight Slab As Per ABC</th>\n",
       "      <th>Expected charge as per ABC</th>\n",
       "      <th>AWB Code</th>\n",
       "      <th>Charged Weight</th>\n",
       "      <th>Warehouse Pincode_y</th>\n",
       "      <th>Customer Pincode_y</th>\n",
       "      <th>Delivery Zone Charged by Courier Company</th>\n",
       "      <th>Type of Shipment_y</th>\n",
       "      <th>Billing Amount (Rs.)</th>\n",
       "      <th>Weight slab charged by courier company</th>\n",
       "    </tr>\n",
       "  </thead>\n",
       "  <tbody>\n",
       "    <tr>\n",
       "      <th>0</th>\n",
       "      <td>2001827036</td>\n",
       "      <td>8904223818706</td>\n",
       "      <td>1.0</td>\n",
       "      <td>127</td>\n",
       "      <td>173213</td>\n",
       "      <td>Forward charges</td>\n",
       "      <td>121003</td>\n",
       "      <td>e</td>\n",
       "      <td>0.127</td>\n",
       "      <td>0.5</td>\n",
       "      <td>56.6</td>\n",
       "      <td>1091122418320</td>\n",
       "      <td>1.6</td>\n",
       "      <td>121003</td>\n",
       "      <td>173213</td>\n",
       "      <td>b</td>\n",
       "      <td>Forward charges</td>\n",
       "      <td>117.9</td>\n",
       "      <td>2.0</td>\n",
       "    </tr>\n",
       "    <tr>\n",
       "      <th>1</th>\n",
       "      <td>2001827036</td>\n",
       "      <td>8904223819093</td>\n",
       "      <td>1.0</td>\n",
       "      <td>150</td>\n",
       "      <td>173213</td>\n",
       "      <td>Forward charges</td>\n",
       "      <td>121003</td>\n",
       "      <td>e</td>\n",
       "      <td>0.150</td>\n",
       "      <td>0.5</td>\n",
       "      <td>56.6</td>\n",
       "      <td>1091122418320</td>\n",
       "      <td>1.6</td>\n",
       "      <td>121003</td>\n",
       "      <td>173213</td>\n",
       "      <td>b</td>\n",
       "      <td>Forward charges</td>\n",
       "      <td>117.9</td>\n",
       "      <td>2.0</td>\n",
       "    </tr>\n",
       "    <tr>\n",
       "      <th>2</th>\n",
       "      <td>2001827036</td>\n",
       "      <td>8904223819109</td>\n",
       "      <td>1.0</td>\n",
       "      <td>100</td>\n",
       "      <td>173213</td>\n",
       "      <td>Forward charges</td>\n",
       "      <td>121003</td>\n",
       "      <td>e</td>\n",
       "      <td>0.100</td>\n",
       "      <td>0.5</td>\n",
       "      <td>56.6</td>\n",
       "      <td>1091122418320</td>\n",
       "      <td>1.6</td>\n",
       "      <td>121003</td>\n",
       "      <td>173213</td>\n",
       "      <td>b</td>\n",
       "      <td>Forward charges</td>\n",
       "      <td>117.9</td>\n",
       "      <td>2.0</td>\n",
       "    </tr>\n",
       "    <tr>\n",
       "      <th>3</th>\n",
       "      <td>2001827036</td>\n",
       "      <td>8904223818430</td>\n",
       "      <td>1.0</td>\n",
       "      <td>165</td>\n",
       "      <td>173213</td>\n",
       "      <td>Forward charges</td>\n",
       "      <td>121003</td>\n",
       "      <td>e</td>\n",
       "      <td>0.165</td>\n",
       "      <td>0.5</td>\n",
       "      <td>56.6</td>\n",
       "      <td>1091122418320</td>\n",
       "      <td>1.6</td>\n",
       "      <td>121003</td>\n",
       "      <td>173213</td>\n",
       "      <td>b</td>\n",
       "      <td>Forward charges</td>\n",
       "      <td>117.9</td>\n",
       "      <td>2.0</td>\n",
       "    </tr>\n",
       "    <tr>\n",
       "      <th>4</th>\n",
       "      <td>2001827036</td>\n",
       "      <td>8904223819277</td>\n",
       "      <td>1.0</td>\n",
       "      <td>350</td>\n",
       "      <td>173213</td>\n",
       "      <td>Forward charges</td>\n",
       "      <td>121003</td>\n",
       "      <td>e</td>\n",
       "      <td>0.350</td>\n",
       "      <td>0.5</td>\n",
       "      <td>56.6</td>\n",
       "      <td>1091122418320</td>\n",
       "      <td>1.6</td>\n",
       "      <td>121003</td>\n",
       "      <td>173213</td>\n",
       "      <td>b</td>\n",
       "      <td>Forward charges</td>\n",
       "      <td>117.9</td>\n",
       "      <td>2.0</td>\n",
       "    </tr>\n",
       "  </tbody>\n",
       "</table>\n",
       "</div>"
      ],
      "text/plain": [
       "     Order ID            SKU  Order Qty  Weight (g)  Customer Pincode_x  \\\n",
       "0  2001827036  8904223818706        1.0         127              173213   \n",
       "1  2001827036  8904223819093        1.0         150              173213   \n",
       "2  2001827036  8904223819109        1.0         100              173213   \n",
       "3  2001827036  8904223818430        1.0         165              173213   \n",
       "4  2001827036  8904223819277        1.0         350              173213   \n",
       "\n",
       "  Type of Shipment_x  Warehouse Pincode_x Delivery Zone As Per ABC  \\\n",
       "0    Forward charges               121003                        e   \n",
       "1    Forward charges               121003                        e   \n",
       "2    Forward charges               121003                        e   \n",
       "3    Forward charges               121003                        e   \n",
       "4    Forward charges               121003                        e   \n",
       "\n",
       "   Weight (Kgs)  Weight Slab As Per ABC  Expected charge as per ABC  \\\n",
       "0         0.127                     0.5                        56.6   \n",
       "1         0.150                     0.5                        56.6   \n",
       "2         0.100                     0.5                        56.6   \n",
       "3         0.165                     0.5                        56.6   \n",
       "4         0.350                     0.5                        56.6   \n",
       "\n",
       "        AWB Code  Charged Weight  Warehouse Pincode_y  Customer Pincode_y  \\\n",
       "0  1091122418320             1.6               121003              173213   \n",
       "1  1091122418320             1.6               121003              173213   \n",
       "2  1091122418320             1.6               121003              173213   \n",
       "3  1091122418320             1.6               121003              173213   \n",
       "4  1091122418320             1.6               121003              173213   \n",
       "\n",
       "  Delivery Zone Charged by Courier Company Type of Shipment_y  \\\n",
       "0                                        b    Forward charges   \n",
       "1                                        b    Forward charges   \n",
       "2                                        b    Forward charges   \n",
       "3                                        b    Forward charges   \n",
       "4                                        b    Forward charges   \n",
       "\n",
       "   Billing Amount (Rs.)  Weight slab charged by courier company  \n",
       "0                 117.9                                     2.0  \n",
       "1                 117.9                                     2.0  \n",
       "2                 117.9                                     2.0  \n",
       "3                 117.9                                     2.0  \n",
       "4                 117.9                                     2.0  "
      ]
     },
     "execution_count": 62,
     "metadata": {},
     "output_type": "execute_result"
    }
   ],
   "source": [
    "merged_output = merged2.merge(courier_invoice, on=\"Order ID\")\n",
    "merged_output.head()"
   ]
  },
  {
   "cell_type": "code",
   "execution_count": 63,
   "id": "ba676a8b",
   "metadata": {},
   "outputs": [],
   "source": [
    "df_diff = merged_output"
   ]
  },
  {
   "cell_type": "code",
   "execution_count": 64,
   "id": "0384dfa8",
   "metadata": {},
   "outputs": [],
   "source": [
    "df_diff[\"Difference (Rs.)\"] = df_diff[\"Billing Amount (Rs.)\"] - df_diff[\"Expected charge as per ABC\"]"
   ]
  },
  {
   "cell_type": "code",
   "execution_count": 65,
   "id": "7366f174",
   "metadata": {},
   "outputs": [],
   "source": [
    "df_new = df_diff[[\"Order ID\", \"Difference (Rs.)\", \"Expected charge as per ABC\"]]"
   ]
  },
  {
   "cell_type": "code",
   "execution_count": 66,
   "id": "3964e83b",
   "metadata": {},
   "outputs": [
    {
     "data": {
      "text/html": [
       "<div>\n",
       "<style scoped>\n",
       "    .dataframe tbody tr th:only-of-type {\n",
       "        vertical-align: middle;\n",
       "    }\n",
       "\n",
       "    .dataframe tbody tr th {\n",
       "        vertical-align: top;\n",
       "    }\n",
       "\n",
       "    .dataframe thead th {\n",
       "        text-align: right;\n",
       "    }\n",
       "</style>\n",
       "<table border=\"1\" class=\"dataframe\">\n",
       "  <thead>\n",
       "    <tr style=\"text-align: right;\">\n",
       "      <th></th>\n",
       "      <th>Order ID</th>\n",
       "      <th>Difference (Rs.)</th>\n",
       "      <th>Expected charge as per ABC</th>\n",
       "    </tr>\n",
       "  </thead>\n",
       "  <tbody>\n",
       "    <tr>\n",
       "      <th>0</th>\n",
       "      <td>2001827036</td>\n",
       "      <td>61.3</td>\n",
       "      <td>56.6</td>\n",
       "    </tr>\n",
       "    <tr>\n",
       "      <th>1</th>\n",
       "      <td>2001827036</td>\n",
       "      <td>61.3</td>\n",
       "      <td>56.6</td>\n",
       "    </tr>\n",
       "    <tr>\n",
       "      <th>2</th>\n",
       "      <td>2001827036</td>\n",
       "      <td>61.3</td>\n",
       "      <td>56.6</td>\n",
       "    </tr>\n",
       "    <tr>\n",
       "      <th>3</th>\n",
       "      <td>2001827036</td>\n",
       "      <td>61.3</td>\n",
       "      <td>56.6</td>\n",
       "    </tr>\n",
       "    <tr>\n",
       "      <th>4</th>\n",
       "      <td>2001827036</td>\n",
       "      <td>61.3</td>\n",
       "      <td>56.6</td>\n",
       "    </tr>\n",
       "    <tr>\n",
       "      <th>...</th>\n",
       "      <td>...</td>\n",
       "      <td>...</td>\n",
       "      <td>...</td>\n",
       "    </tr>\n",
       "    <tr>\n",
       "      <th>396</th>\n",
       "      <td>2001806229</td>\n",
       "      <td>44.8</td>\n",
       "      <td>45.4</td>\n",
       "    </tr>\n",
       "    <tr>\n",
       "      <th>397</th>\n",
       "      <td>2001806229</td>\n",
       "      <td>44.8</td>\n",
       "      <td>45.4</td>\n",
       "    </tr>\n",
       "    <tr>\n",
       "      <th>398</th>\n",
       "      <td>2001806226</td>\n",
       "      <td>44.8</td>\n",
       "      <td>45.4</td>\n",
       "    </tr>\n",
       "    <tr>\n",
       "      <th>399</th>\n",
       "      <td>2001806210</td>\n",
       "      <td>141.5</td>\n",
       "      <td>33.0</td>\n",
       "    </tr>\n",
       "    <tr>\n",
       "      <th>400</th>\n",
       "      <td>2001806210</td>\n",
       "      <td>141.5</td>\n",
       "      <td>33.0</td>\n",
       "    </tr>\n",
       "  </tbody>\n",
       "</table>\n",
       "<p>401 rows × 3 columns</p>\n",
       "</div>"
      ],
      "text/plain": [
       "       Order ID  Difference (Rs.)  Expected charge as per ABC\n",
       "0    2001827036              61.3                        56.6\n",
       "1    2001827036              61.3                        56.6\n",
       "2    2001827036              61.3                        56.6\n",
       "3    2001827036              61.3                        56.6\n",
       "4    2001827036              61.3                        56.6\n",
       "..          ...               ...                         ...\n",
       "396  2001806229              44.8                        45.4\n",
       "397  2001806229              44.8                        45.4\n",
       "398  2001806226              44.8                        45.4\n",
       "399  2001806210             141.5                        33.0\n",
       "400  2001806210             141.5                        33.0\n",
       "\n",
       "[401 rows x 3 columns]"
      ]
     },
     "execution_count": 66,
     "metadata": {},
     "output_type": "execute_result"
    }
   ],
   "source": [
    "df_new"
   ]
  },
  {
   "cell_type": "code",
   "execution_count": 67,
   "id": "3545d8da",
   "metadata": {},
   "outputs": [
    {
     "data": {
      "text/plain": [
       "np.int64(12)"
      ]
     },
     "execution_count": 67,
     "metadata": {},
     "output_type": "execute_result"
    }
   ],
   "source": [
    "df_new[df_new[\"Difference (Rs.)\"] == 0][\"Order ID\"].count()"
   ]
  },
  {
   "cell_type": "code",
   "execution_count": 68,
   "id": "f2c56173",
   "metadata": {},
   "outputs": [],
   "source": [
    "#Calculating the total orders in each category\n",
    "total_correctly_charged = len(df_new[df_new[\"Difference (Rs.)\"] == 0])\n",
    "total_overcharged = len(df_new[df_new[\"Difference (Rs.)\"] > 0])\n",
    "total_undercharged = len(df_new[df_new[\"Difference (Rs.)\"] < 0])  "
   ]
  },
  {
   "cell_type": "code",
   "execution_count": 69,
   "id": "11447242",
   "metadata": {},
   "outputs": [],
   "source": [
    "#Calculating the total amount in each category\n",
    "amount_overcharged = df_new[df_new[\"Difference (Rs.)\"] > 0][\"Difference (Rs.)\"].sum()\n",
    "amount_undercharged = df_new[df_new[\"Difference (Rs.)\"] < 0][\"Difference (Rs.)\"].sum()\n",
    "amount_correctly_charged = df_new[df_new[\"Difference (Rs.)\"] == 0][\"Expected charge as per ABC\"].sum()"
   ]
  },
  {
   "cell_type": "code",
   "execution_count": 70,
   "id": "97e038a3",
   "metadata": {},
   "outputs": [],
   "source": [
    "Summary_data= {\"Description\" : [\"Total Orders where ABC has been correctly charged\",\n",
    "                        \"Total Orders where ABC has been overcharged\",\n",
    "                        \"Total Orders where ABC has been undercharged\"],\n",
    "            'count': [total_correctly_charged, total_overcharged, total_undercharged],\n",
    "            'Amount (Rs.)': [amount_correctly_charged, amount_overcharged, amount_undercharged]}"
   ]
  },
  {
   "cell_type": "code",
   "execution_count": 71,
   "id": "492725e0",
   "metadata": {},
   "outputs": [
    {
     "data": {
      "text/html": [
       "<div>\n",
       "<style scoped>\n",
       "    .dataframe tbody tr th:only-of-type {\n",
       "        vertical-align: middle;\n",
       "    }\n",
       "\n",
       "    .dataframe tbody tr th {\n",
       "        vertical-align: top;\n",
       "    }\n",
       "\n",
       "    .dataframe thead th {\n",
       "        text-align: right;\n",
       "    }\n",
       "</style>\n",
       "<table border=\"1\" class=\"dataframe\">\n",
       "  <thead>\n",
       "    <tr style=\"text-align: right;\">\n",
       "      <th></th>\n",
       "      <th>Description</th>\n",
       "      <th>count</th>\n",
       "      <th>Amount (Rs.)</th>\n",
       "    </tr>\n",
       "  </thead>\n",
       "  <tbody>\n",
       "    <tr>\n",
       "      <th>0</th>\n",
       "      <td>Total Orders where ABC has been correctly charged</td>\n",
       "      <td>12</td>\n",
       "      <td>507.6</td>\n",
       "    </tr>\n",
       "    <tr>\n",
       "      <th>1</th>\n",
       "      <td>Total Orders where ABC has been overcharged</td>\n",
       "      <td>382</td>\n",
       "      <td>33750.5</td>\n",
       "    </tr>\n",
       "    <tr>\n",
       "      <th>2</th>\n",
       "      <td>Total Orders where ABC has been undercharged</td>\n",
       "      <td>7</td>\n",
       "      <td>-165.2</td>\n",
       "    </tr>\n",
       "  </tbody>\n",
       "</table>\n",
       "</div>"
      ],
      "text/plain": [
       "                                         Description  count  Amount (Rs.)\n",
       "0  Total Orders where ABC has been correctly charged     12         507.6\n",
       "1        Total Orders where ABC has been overcharged    382       33750.5\n",
       "2       Total Orders where ABC has been undercharged      7        -165.2"
      ]
     },
     "execution_count": 71,
     "metadata": {},
     "output_type": "execute_result"
    }
   ],
   "source": [
    "#Creating a Dataframe  for summary Data\n",
    "df_summary = pd.DataFrame(Summary_data)\n",
    "df_summary"
   ]
  },
  {
   "cell_type": "code",
   "execution_count": 72,
   "id": "f3ceca62",
   "metadata": {},
   "outputs": [],
   "source": [
    "#Importing plotly to visualize the data\n",
    "import plotly.graph_objects as go"
   ]
  },
  {
   "cell_type": "code",
   "execution_count": 73,
   "id": "344257f5",
   "metadata": {},
   "outputs": [
    {
     "data": {
      "application/vnd.plotly.v1+json": {
       "config": {
        "plotlyServerURL": "https://plot.ly"
       },
       "data": [
        {
         "hole": 0.4,
         "labels": [
          "Total Orders where ABC has been correctly charged",
          "Total Orders where ABC has been overcharged",
          "Total Orders where ABC has been undercharged"
         ],
         "textinfo": "label+percent",
         "type": "pie",
         "values": {
          "bdata": "DAB+AQcA",
          "dtype": "i2"
         }
        }
       ],
       "layout": {
        "template": {
         "data": {
          "bar": [
           {
            "error_x": {
             "color": "#2a3f5f"
            },
            "error_y": {
             "color": "#2a3f5f"
            },
            "marker": {
             "line": {
              "color": "#E5ECF6",
              "width": 0.5
             },
             "pattern": {
              "fillmode": "overlay",
              "size": 10,
              "solidity": 0.2
             }
            },
            "type": "bar"
           }
          ],
          "barpolar": [
           {
            "marker": {
             "line": {
              "color": "#E5ECF6",
              "width": 0.5
             },
             "pattern": {
              "fillmode": "overlay",
              "size": 10,
              "solidity": 0.2
             }
            },
            "type": "barpolar"
           }
          ],
          "carpet": [
           {
            "aaxis": {
             "endlinecolor": "#2a3f5f",
             "gridcolor": "white",
             "linecolor": "white",
             "minorgridcolor": "white",
             "startlinecolor": "#2a3f5f"
            },
            "baxis": {
             "endlinecolor": "#2a3f5f",
             "gridcolor": "white",
             "linecolor": "white",
             "minorgridcolor": "white",
             "startlinecolor": "#2a3f5f"
            },
            "type": "carpet"
           }
          ],
          "choropleth": [
           {
            "colorbar": {
             "outlinewidth": 0,
             "ticks": ""
            },
            "type": "choropleth"
           }
          ],
          "contour": [
           {
            "colorbar": {
             "outlinewidth": 0,
             "ticks": ""
            },
            "colorscale": [
             [
              0,
              "#0d0887"
             ],
             [
              0.1111111111111111,
              "#46039f"
             ],
             [
              0.2222222222222222,
              "#7201a8"
             ],
             [
              0.3333333333333333,
              "#9c179e"
             ],
             [
              0.4444444444444444,
              "#bd3786"
             ],
             [
              0.5555555555555556,
              "#d8576b"
             ],
             [
              0.6666666666666666,
              "#ed7953"
             ],
             [
              0.7777777777777778,
              "#fb9f3a"
             ],
             [
              0.8888888888888888,
              "#fdca26"
             ],
             [
              1,
              "#f0f921"
             ]
            ],
            "type": "contour"
           }
          ],
          "contourcarpet": [
           {
            "colorbar": {
             "outlinewidth": 0,
             "ticks": ""
            },
            "type": "contourcarpet"
           }
          ],
          "heatmap": [
           {
            "colorbar": {
             "outlinewidth": 0,
             "ticks": ""
            },
            "colorscale": [
             [
              0,
              "#0d0887"
             ],
             [
              0.1111111111111111,
              "#46039f"
             ],
             [
              0.2222222222222222,
              "#7201a8"
             ],
             [
              0.3333333333333333,
              "#9c179e"
             ],
             [
              0.4444444444444444,
              "#bd3786"
             ],
             [
              0.5555555555555556,
              "#d8576b"
             ],
             [
              0.6666666666666666,
              "#ed7953"
             ],
             [
              0.7777777777777778,
              "#fb9f3a"
             ],
             [
              0.8888888888888888,
              "#fdca26"
             ],
             [
              1,
              "#f0f921"
             ]
            ],
            "type": "heatmap"
           }
          ],
          "histogram": [
           {
            "marker": {
             "pattern": {
              "fillmode": "overlay",
              "size": 10,
              "solidity": 0.2
             }
            },
            "type": "histogram"
           }
          ],
          "histogram2d": [
           {
            "colorbar": {
             "outlinewidth": 0,
             "ticks": ""
            },
            "colorscale": [
             [
              0,
              "#0d0887"
             ],
             [
              0.1111111111111111,
              "#46039f"
             ],
             [
              0.2222222222222222,
              "#7201a8"
             ],
             [
              0.3333333333333333,
              "#9c179e"
             ],
             [
              0.4444444444444444,
              "#bd3786"
             ],
             [
              0.5555555555555556,
              "#d8576b"
             ],
             [
              0.6666666666666666,
              "#ed7953"
             ],
             [
              0.7777777777777778,
              "#fb9f3a"
             ],
             [
              0.8888888888888888,
              "#fdca26"
             ],
             [
              1,
              "#f0f921"
             ]
            ],
            "type": "histogram2d"
           }
          ],
          "histogram2dcontour": [
           {
            "colorbar": {
             "outlinewidth": 0,
             "ticks": ""
            },
            "colorscale": [
             [
              0,
              "#0d0887"
             ],
             [
              0.1111111111111111,
              "#46039f"
             ],
             [
              0.2222222222222222,
              "#7201a8"
             ],
             [
              0.3333333333333333,
              "#9c179e"
             ],
             [
              0.4444444444444444,
              "#bd3786"
             ],
             [
              0.5555555555555556,
              "#d8576b"
             ],
             [
              0.6666666666666666,
              "#ed7953"
             ],
             [
              0.7777777777777778,
              "#fb9f3a"
             ],
             [
              0.8888888888888888,
              "#fdca26"
             ],
             [
              1,
              "#f0f921"
             ]
            ],
            "type": "histogram2dcontour"
           }
          ],
          "mesh3d": [
           {
            "colorbar": {
             "outlinewidth": 0,
             "ticks": ""
            },
            "type": "mesh3d"
           }
          ],
          "parcoords": [
           {
            "line": {
             "colorbar": {
              "outlinewidth": 0,
              "ticks": ""
             }
            },
            "type": "parcoords"
           }
          ],
          "pie": [
           {
            "automargin": true,
            "type": "pie"
           }
          ],
          "scatter": [
           {
            "fillpattern": {
             "fillmode": "overlay",
             "size": 10,
             "solidity": 0.2
            },
            "type": "scatter"
           }
          ],
          "scatter3d": [
           {
            "line": {
             "colorbar": {
              "outlinewidth": 0,
              "ticks": ""
             }
            },
            "marker": {
             "colorbar": {
              "outlinewidth": 0,
              "ticks": ""
             }
            },
            "type": "scatter3d"
           }
          ],
          "scattercarpet": [
           {
            "marker": {
             "colorbar": {
              "outlinewidth": 0,
              "ticks": ""
             }
            },
            "type": "scattercarpet"
           }
          ],
          "scattergeo": [
           {
            "marker": {
             "colorbar": {
              "outlinewidth": 0,
              "ticks": ""
             }
            },
            "type": "scattergeo"
           }
          ],
          "scattergl": [
           {
            "marker": {
             "colorbar": {
              "outlinewidth": 0,
              "ticks": ""
             }
            },
            "type": "scattergl"
           }
          ],
          "scattermap": [
           {
            "marker": {
             "colorbar": {
              "outlinewidth": 0,
              "ticks": ""
             }
            },
            "type": "scattermap"
           }
          ],
          "scattermapbox": [
           {
            "marker": {
             "colorbar": {
              "outlinewidth": 0,
              "ticks": ""
             }
            },
            "type": "scattermapbox"
           }
          ],
          "scatterpolar": [
           {
            "marker": {
             "colorbar": {
              "outlinewidth": 0,
              "ticks": ""
             }
            },
            "type": "scatterpolar"
           }
          ],
          "scatterpolargl": [
           {
            "marker": {
             "colorbar": {
              "outlinewidth": 0,
              "ticks": ""
             }
            },
            "type": "scatterpolargl"
           }
          ],
          "scatterternary": [
           {
            "marker": {
             "colorbar": {
              "outlinewidth": 0,
              "ticks": ""
             }
            },
            "type": "scatterternary"
           }
          ],
          "surface": [
           {
            "colorbar": {
             "outlinewidth": 0,
             "ticks": ""
            },
            "colorscale": [
             [
              0,
              "#0d0887"
             ],
             [
              0.1111111111111111,
              "#46039f"
             ],
             [
              0.2222222222222222,
              "#7201a8"
             ],
             [
              0.3333333333333333,
              "#9c179e"
             ],
             [
              0.4444444444444444,
              "#bd3786"
             ],
             [
              0.5555555555555556,
              "#d8576b"
             ],
             [
              0.6666666666666666,
              "#ed7953"
             ],
             [
              0.7777777777777778,
              "#fb9f3a"
             ],
             [
              0.8888888888888888,
              "#fdca26"
             ],
             [
              1,
              "#f0f921"
             ]
            ],
            "type": "surface"
           }
          ],
          "table": [
           {
            "cells": {
             "fill": {
              "color": "#EBF0F8"
             },
             "line": {
              "color": "white"
             }
            },
            "header": {
             "fill": {
              "color": "#C8D4E3"
             },
             "line": {
              "color": "white"
             }
            },
            "type": "table"
           }
          ]
         },
         "layout": {
          "annotationdefaults": {
           "arrowcolor": "#2a3f5f",
           "arrowhead": 0,
           "arrowwidth": 1
          },
          "autotypenumbers": "strict",
          "coloraxis": {
           "colorbar": {
            "outlinewidth": 0,
            "ticks": ""
           }
          },
          "colorscale": {
           "diverging": [
            [
             0,
             "#8e0152"
            ],
            [
             0.1,
             "#c51b7d"
            ],
            [
             0.2,
             "#de77ae"
            ],
            [
             0.3,
             "#f1b6da"
            ],
            [
             0.4,
             "#fde0ef"
            ],
            [
             0.5,
             "#f7f7f7"
            ],
            [
             0.6,
             "#e6f5d0"
            ],
            [
             0.7,
             "#b8e186"
            ],
            [
             0.8,
             "#7fbc41"
            ],
            [
             0.9,
             "#4d9221"
            ],
            [
             1,
             "#276419"
            ]
           ],
           "sequential": [
            [
             0,
             "#0d0887"
            ],
            [
             0.1111111111111111,
             "#46039f"
            ],
            [
             0.2222222222222222,
             "#7201a8"
            ],
            [
             0.3333333333333333,
             "#9c179e"
            ],
            [
             0.4444444444444444,
             "#bd3786"
            ],
            [
             0.5555555555555556,
             "#d8576b"
            ],
            [
             0.6666666666666666,
             "#ed7953"
            ],
            [
             0.7777777777777778,
             "#fb9f3a"
            ],
            [
             0.8888888888888888,
             "#fdca26"
            ],
            [
             1,
             "#f0f921"
            ]
           ],
           "sequentialminus": [
            [
             0,
             "#0d0887"
            ],
            [
             0.1111111111111111,
             "#46039f"
            ],
            [
             0.2222222222222222,
             "#7201a8"
            ],
            [
             0.3333333333333333,
             "#9c179e"
            ],
            [
             0.4444444444444444,
             "#bd3786"
            ],
            [
             0.5555555555555556,
             "#d8576b"
            ],
            [
             0.6666666666666666,
             "#ed7953"
            ],
            [
             0.7777777777777778,
             "#fb9f3a"
            ],
            [
             0.8888888888888888,
             "#fdca26"
            ],
            [
             1,
             "#f0f921"
            ]
           ]
          },
          "colorway": [
           "#636efa",
           "#EF553B",
           "#00cc96",
           "#ab63fa",
           "#FFA15A",
           "#19d3f3",
           "#FF6692",
           "#B6E880",
           "#FF97FF",
           "#FECB52"
          ],
          "font": {
           "color": "#2a3f5f"
          },
          "geo": {
           "bgcolor": "white",
           "lakecolor": "white",
           "landcolor": "#E5ECF6",
           "showlakes": true,
           "showland": true,
           "subunitcolor": "white"
          },
          "hoverlabel": {
           "align": "left"
          },
          "hovermode": "closest",
          "mapbox": {
           "style": "light"
          },
          "paper_bgcolor": "white",
          "plot_bgcolor": "#E5ECF6",
          "polar": {
           "angularaxis": {
            "gridcolor": "white",
            "linecolor": "white",
            "ticks": ""
           },
           "bgcolor": "#E5ECF6",
           "radialaxis": {
            "gridcolor": "white",
            "linecolor": "white",
            "ticks": ""
           }
          },
          "scene": {
           "xaxis": {
            "backgroundcolor": "#E5ECF6",
            "gridcolor": "white",
            "gridwidth": 2,
            "linecolor": "white",
            "showbackground": true,
            "ticks": "",
            "zerolinecolor": "white"
           },
           "yaxis": {
            "backgroundcolor": "#E5ECF6",
            "gridcolor": "white",
            "gridwidth": 2,
            "linecolor": "white",
            "showbackground": true,
            "ticks": "",
            "zerolinecolor": "white"
           },
           "zaxis": {
            "backgroundcolor": "#E5ECF6",
            "gridcolor": "white",
            "gridwidth": 2,
            "linecolor": "white",
            "showbackground": true,
            "ticks": "",
            "zerolinecolor": "white"
           }
          },
          "shapedefaults": {
           "line": {
            "color": "#2a3f5f"
           }
          },
          "ternary": {
           "aaxis": {
            "gridcolor": "white",
            "linecolor": "white",
            "ticks": ""
           },
           "baxis": {
            "gridcolor": "white",
            "linecolor": "white",
            "ticks": ""
           },
           "bgcolor": "#E5ECF6",
           "caxis": {
            "gridcolor": "white",
            "linecolor": "white",
            "ticks": ""
           }
          },
          "title": {
           "x": 0.05
          },
          "xaxis": {
           "automargin": true,
           "gridcolor": "white",
           "linecolor": "white",
           "ticks": "",
           "title": {
            "standoff": 15
           },
           "zerolinecolor": "white",
           "zerolinewidth": 2
          },
          "yaxis": {
           "automargin": true,
           "gridcolor": "white",
           "linecolor": "white",
           "ticks": "",
           "title": {
            "standoff": 15
           },
           "zerolinecolor": "white",
           "zerolinewidth": 2
          }
         }
        },
        "title": {
         "text": "Proportion"
        }
       }
      }
     },
     "metadata": {},
     "output_type": "display_data"
    }
   ],
   "source": [
    "fig = go.Figure(data=go.Pie( labels= df_summary[\"Description\"],\n",
    "                      values= df_summary[\"count\"],\n",
    "                      textinfo= 'label+percent',\n",
    "                      hole= 0.4))\n",
    "\n",
    "fig.update_layout(title = \"Proportion\")\n",
    "\n",
    "fig.show()"
   ]
  }
 ],
 "metadata": {
  "kernelspec": {
   "display_name": "Python 3",
   "language": "python",
   "name": "python3"
  },
  "language_info": {
   "codemirror_mode": {
    "name": "ipython",
    "version": 3
   },
   "file_extension": ".py",
   "mimetype": "text/x-python",
   "name": "python",
   "nbconvert_exporter": "python",
   "pygments_lexer": "ipython3",
   "version": "3.12.4"
  }
 },
 "nbformat": 4,
 "nbformat_minor": 5
}
